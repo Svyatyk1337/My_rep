{
 "cells": [
  {
   "cell_type": "code",
   "execution_count": 1,
   "id": "3f33cbad-4f71-4653-8ca9-80f6bf8be960",
   "metadata": {},
   "outputs": [
    {
     "name": "stderr",
     "output_type": "stream",
     "text": [
      "C:\\Users\\strat\\ProgramData\\Lib\\site-packages\\huggingface_hub\\utils\\_runtime.py:184: UserWarning: Pydantic is installed but cannot be imported. Please check your installation. `huggingface_hub` will default to not using Pydantic. Error message: '{e}'\n",
      "  warnings.warn(\n"
     ]
    }
   ],
   "source": [
    "import torch \n",
    "import torchvision\n",
    "from torch.utils.data import DataLoader,Dataset\n",
    "import numpy as np\n",
    "import math\n",
    "import pandas as pd"
   ]
  },
  {
   "cell_type": "code",
   "execution_count": 29,
   "id": "8936e396-f974-4192-8a21-41f4c1f4af7e",
   "metadata": {},
   "outputs": [],
   "source": [
    "class WineDataset(Dataset):\n",
    "    def __init__(self):\n",
    "        data = pd.read_csv(\"wine.csv\")\n",
    "        self.y = torch.from_numpy(np.array(data.iloc[:,0],dtype = np.float32))\n",
    "        self.x = torch.from_numpy(np.array(data.iloc[:,1:],dtype = np.float32))\n",
    "        self.n_samples = self.x.shape[0]\n",
    "        self.n_features = self.x.shape[1]\n",
    "    def __getitem__(self,index):\n",
    "        return self.x[index], self.y[index]\n",
    "\n",
    "    def __len__(self):\n",
    "        return self.n_samples\n",
    "\n"
   ]
  },
  {
   "cell_type": "code",
   "execution_count": 3,
   "id": "546ed4c6-10a0-4732-ae98-eb595097c828",
   "metadata": {},
   "outputs": [],
   "source": [
    "dataset = WineDataset()"
   ]
  },
  {
   "cell_type": "code",
   "execution_count": 38,
   "id": "96c9965f-5397-4a4a-95ca-827b6a41e7d5",
   "metadata": {},
   "outputs": [],
   "source": [
    "dataloader = DataLoader(dataset=dataset,batch_size=4,shuffle=False,num_workers=0)"
   ]
  },
  {
   "cell_type": "code",
   "execution_count": 39,
   "id": "aee44307-6459-498f-ad6e-e4a4de57b41c",
   "metadata": {},
   "outputs": [],
   "source": [
    "dataiter = iter(dataloader) "
   ]
  },
  {
   "cell_type": "code",
   "execution_count": 40,
   "id": "cc4e1e69-e837-420c-b601-67404018c28d",
   "metadata": {},
   "outputs": [],
   "source": [
    "data = next(dataiter)"
   ]
  },
  {
   "cell_type": "code",
   "execution_count": 41,
   "id": "e9857774-9cff-4f6b-aac7-0b573953e55f",
   "metadata": {},
   "outputs": [],
   "source": [
    "features , labels = data"
   ]
  },
  {
   "cell_type": "code",
   "execution_count": 42,
   "id": "f6dd17ee-4eed-4a0b-8bb2-283d1b2b8095",
   "metadata": {},
   "outputs": [
    {
     "data": {
      "text/plain": [
       "tensor([[1.4230e+01, 1.7100e+00, 2.4300e+00, 1.5600e+01, 1.2700e+02, 2.8000e+00,\n",
       "         3.0600e+00, 2.8000e-01, 2.2900e+00, 5.6400e+00, 1.0400e+00, 3.9200e+00,\n",
       "         1.0650e+03],\n",
       "        [1.3200e+01, 1.7800e+00, 2.1400e+00, 1.1200e+01, 1.0000e+02, 2.6500e+00,\n",
       "         2.7600e+00, 2.6000e-01, 1.2800e+00, 4.3800e+00, 1.0500e+00, 3.4000e+00,\n",
       "         1.0500e+03],\n",
       "        [1.3160e+01, 2.3600e+00, 2.6700e+00, 1.8600e+01, 1.0100e+02, 2.8000e+00,\n",
       "         3.2400e+00, 3.0000e-01, 2.8100e+00, 5.6800e+00, 1.0300e+00, 3.1700e+00,\n",
       "         1.1850e+03],\n",
       "        [1.4370e+01, 1.9500e+00, 2.5000e+00, 1.6800e+01, 1.1300e+02, 3.8500e+00,\n",
       "         3.4900e+00, 2.4000e-01, 2.1800e+00, 7.8000e+00, 8.6000e-01, 3.4500e+00,\n",
       "         1.4800e+03]])"
      ]
     },
     "execution_count": 42,
     "metadata": {},
     "output_type": "execute_result"
    }
   ],
   "source": [
    "features"
   ]
  },
  {
   "cell_type": "code",
   "execution_count": 43,
   "id": "feb57a50-cf51-42e2-a2a7-ede01f02d369",
   "metadata": {},
   "outputs": [
    {
     "data": {
      "text/plain": [
       "tensor([1., 1., 1., 1.])"
      ]
     },
     "execution_count": 43,
     "metadata": {},
     "output_type": "execute_result"
    }
   ],
   "source": [
    "labels"
   ]
  },
  {
   "cell_type": "code",
   "execution_count": 44,
   "id": "7b1338ea-80d5-403e-948e-ff4b334c9fa0",
   "metadata": {},
   "outputs": [
    {
     "name": "stdout",
     "output_type": "stream",
     "text": [
      "178 45\n"
     ]
    }
   ],
   "source": [
    "num_epochs = 2\n",
    "total_samples = len(dataset)\n",
    "n_iter = math.ceil(total_samples/4)\n",
    "print(total_samples,n_iter)"
   ]
  },
  {
   "cell_type": "code",
   "execution_count": null,
   "id": "fb583658-696a-44fd-967c-44bd22f96472",
   "metadata": {},
   "outputs": [],
   "source": [
    "for epoch in range(num_epochs):\n",
    "    for i,(inputs,labels) in enumerate(dataloader):\n",
    "        if (i+1) % 5 ==0:\n",
    "            print(f\"epoch {epoch+1}/{num_epochs}, step {i+1}/{n_iter}, inputs {inputs}\")\n",
    "        \n",
    "    "
   ]
  },
  {
   "cell_type": "code",
   "execution_count": null,
   "id": "e00b80b5-fddb-47fa-a4a2-435c941b106b",
   "metadata": {},
   "outputs": [],
   "source": []
  }
 ],
 "metadata": {
  "kernelspec": {
   "display_name": "Python 3 (ipykernel)",
   "language": "python",
   "name": "python3"
  },
  "language_info": {
   "codemirror_mode": {
    "name": "ipython",
    "version": 3
   },
   "file_extension": ".py",
   "mimetype": "text/x-python",
   "name": "python",
   "nbconvert_exporter": "python",
   "pygments_lexer": "ipython3",
   "version": "3.11.5"
  }
 },
 "nbformat": 4,
 "nbformat_minor": 5
}
