{
 "cells": [
  {
   "cell_type": "code",
   "execution_count": 1,
   "id": "414b6fcf-2725-4b0f-81e1-4a02b0b18eec",
   "metadata": {},
   "outputs": [
    {
     "name": "stderr",
     "output_type": "stream",
     "text": [
      "C:\\Users\\strat\\ProgramData\\Lib\\site-packages\\huggingface_hub\\utils\\_runtime.py:184: UserWarning: Pydantic is installed but cannot be imported. Please check your installation. `huggingface_hub` will default to not using Pydantic. Error message: '{e}'\n",
      "  warnings.warn(\n"
     ]
    }
   ],
   "source": [
    "import torch \n",
    "import torchvision\n",
    "import torch.nn as nn\n",
    "import torchvision.transforms as transforms\n",
    "import numpy as np\n",
    "import matplotlib.pyplot as plt "
   ]
  },
  {
   "cell_type": "markdown",
   "id": "6851b2eb-e9b5-4d67-9c21-c80048320052",
   "metadata": {},
   "source": [
    "### Device config\n"
   ]
  },
  {
   "cell_type": "code",
   "execution_count": 2,
   "id": "459f6473-1c7b-43f9-818a-b4d9dd04399c",
   "metadata": {},
   "outputs": [],
   "source": [
    "device = torch.device( 'cpu')"
   ]
  },
  {
   "cell_type": "markdown",
   "id": "1760436e-32a1-418b-9bb8-8cf80e3d7281",
   "metadata": {},
   "source": [
    "### Constants\n"
   ]
  },
  {
   "cell_type": "code",
   "execution_count": 3,
   "id": "bbfa1b7a-fc74-4f06-828c-a6e15d717a0e",
   "metadata": {},
   "outputs": [],
   "source": [
    "INPUT_SIZE = 784\n",
    "HIDDEN_SIZE = 100\n",
    "NUM_CLASSES = 10\n",
    "NUM_EPOCHS = 2\n",
    "BATCH_SIZE = 100\n",
    "LR = 1e-3"
   ]
  },
  {
   "cell_type": "markdown",
   "id": "39049618-8be3-463b-aedd-5253f870a292",
   "metadata": {},
   "source": [
    "### MNIST"
   ]
  },
  {
   "cell_type": "code",
   "execution_count": 4,
   "id": "e310cefc-9b34-476d-af2d-309636c4cc4d",
   "metadata": {},
   "outputs": [],
   "source": [
    "train_dataset = torchvision.datasets.MNIST(\n",
    "                                        root = \"./data\",\n",
    "                                        train = True,\n",
    "                                        transform=transforms.ToTensor(),\n",
    "                                        download=True\n",
    "                                          )"
   ]
  },
  {
   "cell_type": "code",
   "execution_count": 5,
   "id": "9bcc9778-a187-406c-8d25-5d5c940f7c54",
   "metadata": {},
   "outputs": [],
   "source": [
    "test_dataset = torchvision.datasets.MNIST(\n",
    "                               root = \"./data\",\n",
    "                               train = False,\n",
    "                               transform=transforms.ToTensor(),\n",
    "                    \n",
    ")"
   ]
  },
  {
   "cell_type": "code",
   "execution_count": 6,
   "id": "0e6db47b-d700-4688-ae7b-7fd1a6b6fd11",
   "metadata": {},
   "outputs": [],
   "source": [
    "train_loader = torch.utils.data.DataLoader(dataset=train_dataset,batch_size=BATCH_SIZE,shuffle=True)\n",
    "test_loader = torch.utils.data.DataLoader(dataset=test_dataset,batch_size=BATCH_SIZE,shuffle=False)"
   ]
  },
  {
   "cell_type": "code",
   "execution_count": 7,
   "id": "5a224f5b-4651-4590-baa5-34f1e2d11f2d",
   "metadata": {},
   "outputs": [
    {
     "data": {
      "text/plain": [
       "(torch.Size([100, 1, 28, 28]), torch.Size([100]))"
      ]
     },
     "execution_count": 7,
     "metadata": {},
     "output_type": "execute_result"
    }
   ],
   "source": [
    "ex = iter(train_loader)\n",
    "x,y = next(ex)\n",
    "x.shape,y.shape"
   ]
  },
  {
   "cell_type": "code",
   "execution_count": 8,
   "id": "a1900763-13b2-4409-9665-5db9d90fe741",
   "metadata": {},
   "outputs": [
    {
     "data": {
      "image/png": "[encoded data removed]",
      "text/plain": [
       "<Figure size 640x480 with 6 Axes>"
      ]
     },
     "metadata": {},
     "output_type": "display_data"
    }
   ],
   "source": [
    "for i in range(6):\n",
    "    plt.subplot(2,3,i+1)\n",
    "    plt.imshow(x[i][0],cmap = \"gray\")\n",
    "plt.show()"
   ]
  },
  {
   "cell_type": "code",
   "execution_count": 9,
   "id": "0b8bb751-3f80-4599-abd5-f6c245f737e6",
   "metadata": {},
   "outputs": [],
   "source": [
    "class NeuralNetwork(nn.Module):\n",
    "    def __init__(self, input_size, hidden_size, num_classes):\n",
    "        super(NeuralNetwork,self).__init__()\n",
    "        self.l1 = nn.Linear(in_features=input_size,out_features=hidden_size)\n",
    "        self.relu = nn.ReLU()\n",
    "        self.l2 = nn.Linear(in_features=hidden_size,out_features=num_classes)\n",
    "\n",
    "    def forward(self,x):\n",
    "        out = self.l1(x)\n",
    "        out = self.relu(out)\n",
    "        out = self.l2(out)\n",
    "        return out\n",
    "        \n",
    "        "
   ]
  },
  {
   "cell_type": "code",
   "execution_count": 10,
   "id": "4653faa7-da12-452d-9b34-60ebf0b5281c",
   "metadata": {},
   "outputs": [],
   "source": [
    "model = NeuralNetwork(INPUT_SIZE,HIDDEN_SIZE,NUM_CLASSES).to(device)"
   ]
  },
  {
   "cell_type": "code",
   "execution_count": 11,
   "id": "4ff86e32-6d40-4755-b850-7d1b9383b819",
   "metadata": {},
   "outputs": [],
   "source": [
    "criterion = nn.CrossEntropyLoss()\n",
    "optimizer = torch.optim.Adam(model.parameters(),LR)"
   ]
  },
  {
   "cell_type": "code",
   "execution_count": 12,
   "id": "1d5dbd9e-6f82-4faa-83c6-43499f84f8be",
   "metadata": {},
   "outputs": [],
   "source": [
    "n_total_steps = len(train_loader)"
   ]
  },
  {
   "cell_type": "code",
   "execution_count": 13,
   "id": "add773cb-5641-4120-8a27-20897334bdec",
   "metadata": {},
   "outputs": [
    {
     "name": "stdout",
     "output_type": "stream",
     "text": [
      "epoch 1 / 2, step 100 / 600, loss = 0.3857\n",
      "epoch 1 / 2, step 200 / 600, loss = 0.2486\n",
      "epoch 1 / 2, step 300 / 600, loss = 0.3272\n",
      "epoch 1 / 2, step 400 / 600, loss = 0.2714\n",
      "epoch 1 / 2, step 500 / 600, loss = 0.2205\n",
      "epoch 1 / 2, step 600 / 600, loss = 0.2611\n",
      "epoch 2 / 2, step 100 / 600, loss = 0.1419\n",
      "epoch 2 / 2, step 200 / 600, loss = 0.1019\n",
      "epoch 2 / 2, step 300 / 600, loss = 0.1963\n",
      "epoch 2 / 2, step 400 / 600, loss = 0.1062\n",
      "epoch 2 / 2, step 500 / 600, loss = 0.3466\n",
      "epoch 2 / 2, step 600 / 600, loss = 0.0893\n"
     ]
    }
   ],
   "source": [
    "for epoch in range(NUM_EPOCHS):\n",
    "    for i,(images,labels) in enumerate(train_loader):\n",
    "        images = images.reshape(-1, 28*28).to(device)\n",
    "        labels = labels.to(device)\n",
    "\n",
    "        labels_pred = model(images)\n",
    "        loss = criterion(labels_pred,labels)\n",
    "\n",
    "        optimizer.zero_grad()\n",
    "        \n",
    "        loss.backward()\n",
    "        optimizer.step()\n",
    "\n",
    "        if (i+1)%100 == 0:\n",
    "            print(f\"epoch {epoch+1} / {NUM_EPOCHS}, step {i+1} / {n_total_steps}, loss = {loss.item():.4f}\")\n",
    "        "
   ]
  },
  {
   "cell_type": "code",
   "execution_count": 15,
   "id": "d7f512f2-cf51-444e-b0b7-c9644dabbba3",
   "metadata": {},
   "outputs": [
    {
     "name": "stdout",
     "output_type": "stream",
     "text": [
      "accuracy = 0.95\n"
     ]
    }
   ],
   "source": [
    "with torch.no_grad():\n",
    "    n_correct = 0\n",
    "    n_samples = 0\n",
    "    for images,labels in test_loader:\n",
    "        images = images.reshape(-1, 28*28).to(device)\n",
    "        labels = labels.to(device)\n",
    "        labels_pred = model(images)\n",
    "        _,pred = torch.max(labels_pred,1)\n",
    "\n",
    "        n_samples +=labels.shape[0]\n",
    "        n_correct = (pred == labels).sum().item()\n",
    "    acc = 100 * n_correct/n_samples\n",
    "    print(f\"accuracy = {acc}\")\n",
    "        "
   ]
  },
  {
   "cell_type": "code",
   "execution_count": null,
   "id": "3cc751b8-aba9-4e83-a0cb-780093713c32",
   "metadata": {},
   "outputs": [],
   "source": []
  }
 ],
 "metadata": {
  "kernelspec": {
   "display_name": "Python 3 (ipykernel)",
   "language": "python",
   "name": "python3"
  },
  "language_info": {
   "codemirror_mode": {
    "name": "ipython",
    "version": 3
   },
   "file_extension": ".py",
   "mimetype": "text/x-python",
   "name": "python",
   "nbconvert_exporter": "python",
   "pygments_lexer": "ipython3",
   "version": "3.11.5"
  }
 },
 "nbformat": 4,
 "nbformat_minor": 5
}
