{
 "cells": [
  {
   "cell_type": "code",
   "execution_count": 15,
   "id": "a4676fb1-4a03-4e43-9513-4861a717dec3",
   "metadata": {
    "ExecuteTime": {
     "end_time": "2024-05-06T18:16:59.165666Z",
     "start_time": "2024-05-06T18:16:57.077501900Z"
    }
   },
   "outputs": [],
   "source": [
    "import torch\n",
    "import torch.nn as nn\n",
    "import matplotlib.pyplot as plt\n",
    "\n",
    "from utils import ALL_LETTERS,N_LETTERS\n",
    "from utils import load_data,letter_to_tensor,line_to_tensor,random_training_example"
   ]
  },
  {
   "cell_type": "code",
   "execution_count": 16,
   "id": "870d365d-bc88-4cdf-8325-4ee5f59ad9b7",
   "metadata": {
    "ExecuteTime": {
     "end_time": "2024-05-06T18:17:01.766957400Z",
     "start_time": "2024-05-06T18:17:01.763624400Z"
    }
   },
   "outputs": [],
   "source": [
    "class RNN(nn.Module):\n",
    "    def __init__(self,input_size,hidden_size,output_size):\n",
    "        super(RNN,self).__init__()\n",
    "        self.hidden_size = hidden_size\n",
    "        self.i2h = nn.Linear(input_size+hidden_size,hidden_size)\n",
    "        self.i2o = nn.Linear(input_size+hidden_size,output_size)\n",
    "        self.softmax = nn.LogSoftmax(dim=1)\n",
    "    def forward(self,input_tensor,hidden_tensor):\n",
    "        combined = torch.cat((input_tensor,hidden_tensor),1)\n",
    "\n",
    "        hidden = self.i2h(combined)\n",
    "        output = self.i2o(combined)\n",
    "        output = self.softmax(output)\n",
    "\n",
    "        return output , hidden\n",
    "\n",
    "    def init_hidden(self):\n",
    "        return torch.zeros(1,self.hidden_size)\n",
    "\n"
   ]
  },
  {
   "cell_type": "code",
   "execution_count": 17,
   "id": "cde26bf6-811c-4709-97b0-a85bd75e5ca2",
   "metadata": {
    "ExecuteTime": {
     "end_time": "2024-05-06T18:17:02.255846100Z",
     "start_time": "2024-05-06T18:17:02.215923800Z"
    }
   },
   "outputs": [],
   "source": [
    "category_lines,all_categories = load_data()\n",
    "n_categories = len(all_categories)"
   ]
  },
  {
   "cell_type": "code",
   "execution_count": 18,
   "id": "bb3af756-5861-47ed-a2e6-b07647329763",
   "metadata": {
    "ExecuteTime": {
     "end_time": "2024-05-06T18:17:02.513058300Z",
     "start_time": "2024-05-06T18:17:02.503760600Z"
    }
   },
   "outputs": [
    {
     "data": {
      "text/plain": [
       "18"
      ]
     },
     "execution_count": 18,
     "metadata": {},
     "output_type": "execute_result"
    }
   ],
   "source": [
    "n_categories"
   ]
  },
  {
   "cell_type": "code",
   "execution_count": 19,
   "id": "3cbb9007-d44c-4ff9-9054-687e6800de1d",
   "metadata": {
    "ExecuteTime": {
     "end_time": "2024-05-06T18:17:02.837320600Z",
     "start_time": "2024-05-06T18:17:02.833833500Z"
    }
   },
   "outputs": [],
   "source": [
    "n_hidden = 128\n",
    "rnn = RNN(N_LETTERS,n_hidden,n_categories)\n"
   ]
  },
  {
   "cell_type": "code",
   "execution_count": 20,
   "id": "b9596a2c-84f8-449a-a8fc-1342bff72429",
   "metadata": {
    "ExecuteTime": {
     "end_time": "2024-05-06T18:17:03.173876700Z",
     "start_time": "2024-05-06T18:17:03.170130400Z"
    }
   },
   "outputs": [],
   "source": [
    "input_tensor = letter_to_tensor(\"A\")\n",
    "hidden_tensor = rnn.init_hidden()"
   ]
  },
  {
   "cell_type": "code",
   "execution_count": 21,
   "id": "6cd0e4d8-c2cc-4b4e-8d67-b5d626b1d84a",
   "metadata": {
    "ExecuteTime": {
     "end_time": "2024-05-06T18:17:03.506106400Z",
     "start_time": "2024-05-06T18:17:03.494916600Z"
    }
   },
   "outputs": [
    {
     "data": {
      "text/plain": [
       "torch.Size([1, 128])"
      ]
     },
     "execution_count": 21,
     "metadata": {},
     "output_type": "execute_result"
    }
   ],
   "source": [
    "output,next_hidden = rnn(input_tensor,hidden_tensor)\n",
    "output.size()\n",
    "next_hidden.size()"
   ]
  },
  {
   "cell_type": "code",
   "execution_count": 22,
   "id": "5a6a7edc-08ce-4dac-8ab9-92299bfb5b70",
   "metadata": {
    "ExecuteTime": {
     "end_time": "2024-05-06T18:20:17.006231400Z",
     "start_time": "2024-05-06T18:20:16.999880200Z"
    }
   },
   "outputs": [
    {
     "name": "stdout",
     "output_type": "stream",
     "text": [
      "torch.Size([1, 18])\n",
      "torch.Size([1, 128])\n"
     ]
    }
   ],
   "source": [
    "input_tensor = line_to_tensor(\"Albert\")\n",
    "hidden_tensor = rnn.init_hidden()\n",
    "output,next_hidden = rnn(input_tensor[0],hidden_tensor)\n",
    "print(output.size())\n",
    "print(next_hidden.size())"
   ]
  },
  {
   "cell_type": "code",
   "execution_count": 23,
   "id": "fdd513aa8b95c037",
   "metadata": {
    "ExecuteTime": {
     "end_time": "2024-05-06T18:20:20.324481900Z",
     "start_time": "2024-05-06T18:20:20.321758Z"
    },
    "collapsed": false,
    "jupyter": {
     "outputs_hidden": false
    }
   },
   "outputs": [],
   "source": [
    "def category_from_output(output):\n",
    "    category_idx = torch.argmax(output).item()\n",
    "    return all_categories[category_idx]"
   ]
  },
  {
   "cell_type": "code",
   "execution_count": 24,
   "id": "708953dea6201492",
   "metadata": {
    "ExecuteTime": {
     "end_time": "2024-05-06T18:20:28.219283200Z",
     "start_time": "2024-05-06T18:20:28.207109400Z"
    },
    "collapsed": false,
    "jupyter": {
     "outputs_hidden": false
    }
   },
   "outputs": [
    {
     "name": "stdout",
     "output_type": "stream",
     "text": [
      "Arabic\n"
     ]
    }
   ],
   "source": [
    "print(category_from_output(output))"
   ]
  },
  {
   "cell_type": "code",
   "execution_count": 25,
   "id": "6a2092868b52e772",
   "metadata": {
    "ExecuteTime": {
     "end_time": "2024-05-06T18:23:59.018788300Z",
     "start_time": "2024-05-06T18:23:57.330085800Z"
    },
    "collapsed": false,
    "jupyter": {
     "outputs_hidden": false
    }
   },
   "outputs": [],
   "source": [
    "criterion = nn.NLLLoss()\n",
    "learning_rate = 0.005\n",
    "optimizer = torch.optim.SGD(rnn.parameters(),lr=learning_rate)\n",
    "def train(line_tensor,category_tensor):\n",
    "    hidden = rnn.init_hidden()\n",
    "    \n",
    "    for i in range(line_tensor.size()[0]):\n",
    "        output,hidden = rnn(line_tensor[i],hidden)\n",
    "    loss = criterion(output,category_tensor)\n",
    "    optimizer.zero_grad()\n",
    "    loss.backward()\n",
    "    optimizer.step()\n",
    "    return output,loss.item()\n",
    "\n"
   ]
  },
  {
   "cell_type": "code",
   "execution_count": 27,
   "id": "ff8ffd0a06ea90f0",
   "metadata": {
    "collapsed": false,
    "jupyter": {
     "outputs_hidden": false
    },
    "scrolled": true
   },
   "outputs": [
    {
     "name": "stdout",
     "output_type": "stream",
     "text": [
      "4999 4.999 2.4562 Vizhonsky / Greek wrong Russian\n",
      "9999 9.998999999999999 2.2492 Cabrera / Dutch wrong Spanish\n",
      "14999 14.999 1.2601 Ho / Vietnamese correct\n",
      "19999 19.999 1.9134 Milano / Japanese wrong Italian\n",
      "24999 24.999 1.9201 Campos / Greek wrong Portuguese\n",
      "29999 29.999 2.9745 Soukup / Arabic wrong Czech\n",
      "34999 34.999 1.7397 Mcdonald / Irish wrong Scottish\n",
      "39999 39.999 0.5701 Shaw / Chinese correct\n",
      "44999 44.999 0.1792 Mcmillan / Scottish correct\n",
      "49999 49.999 2.7809 Brinkerhoff / Russian wrong German\n",
      "54999 54.998999999999995 2.1586 Amato / Japanese wrong Italian\n",
      "59999 59.999 0.2109 Monahan / Irish correct\n",
      "64999 64.999 1.3712 Chong / Chinese wrong Korean\n",
      "69999 69.999 0.3145 Sumitimo / Japanese correct\n",
      "74999 74.99900000000001 1.2333 Paterson / Russian wrong Scottish\n",
      "79999 79.999 2.3886 Cameron / Irish wrong Scottish\n",
      "84999 84.999 1.4411 Parma / Spanish wrong Italian\n",
      "89999 89.999 1.3468 Palomer / French correct\n",
      "94999 94.999 0.0013 Takishita / Japanese correct\n",
      "99999 99.99900000000001 0.9316 an / Vietnamese correct\n"
     ]
    },
    {
     "data": {
      "text/plain": [
       "<Figure size 640x480 with 0 Axes>"
      ]
     },
     "metadata": {},
     "output_type": "display_data"
    }
   ],
   "source": [
    "current_loss = 0\n",
    "all_losses = []\n",
    "plot_steps,print_steps = 1000,5000\n",
    "n_iters = 100000\n",
    "\n",
    "    \n",
    "for i in range(n_iters):\n",
    "    category,line,category_tensor,line_tensor = random_training_example(category_lines,all_categories)\n",
    "    output,loss = train(line_tensor,category_tensor)\n",
    "    current_loss+=loss\n",
    "\n",
    "    if (i+1)%plot_steps == 0:\n",
    "        all_losses.append(current_loss/plot_steps)\n",
    "        current_loss = 0\n",
    "    if (i+1) % print_steps ==0:\n",
    "        guess = category_from_output(output)\n",
    "        correct = \"correct\" if guess == category else f\"wrong {category}\"\n",
    "        print(f\"{i} {i/n_iters*100} {loss:.4f} {line} / {guess} {correct}\")\n"
   ]
  },
  {
   "cell_type": "code",
   "execution_count": 30,
   "id": "67605a63-d342-4710-810d-08b492425c33",
   "metadata": {},
   "outputs": [
    {
     "data": {
      "text/plain": [
       "[<matplotlib.lines.Line2D at 0x255719efa50>]"
      ]
     },
     "execution_count": 30,
     "metadata": {},
     "output_type": "execute_result"
    },
    {
     "data": {
      "image/png": "[encoded data removed]",
      "text/plain": [
       "<Figure size 640x480 with 1 Axes>"
      ]
     },
     "metadata": {},
     "output_type": "display_data"
    }
   ],
   "source": [
    "plt.plot(all_losses)"
   ]
  },
  {
   "cell_type": "code",
   "execution_count": 35,
   "id": "182e21da-061a-4cee-93dd-185d982503e4",
   "metadata": {},
   "outputs": [],
   "source": [
    "def predict(input_line):\n",
    "    print(f\"\\n > {input_line}\")\n",
    "    with torch.no_grad():\n",
    "        line_tensor = line_to_tensor(input_line)\n",
    "        hidden = rnn.init_hidden()\n",
    "    \n",
    "        for i in range(line_tensor.size()[0]):\n",
    "            output,hidden = rnn(line_tensor[i],hidden)\n",
    "        loss = criterion(output,category_tensor)\n",
    "        quess = category_from_output(output)\n",
    "        print(quess)\n",
    "    "
   ]
  },
  {
   "cell_type": "code",
   "execution_count": 36,
   "id": "aaea11f1-9ebb-4936-b11c-bf5fd66aa182",
   "metadata": {},
   "outputs": [
    {
     "name": "stdin",
     "output_type": "stream",
     "text": [
      "input quit\n"
     ]
    }
   ],
   "source": [
    "while True:\n",
    "    sentence = input(\"input\")\n",
    "    if sentence == \"quit\":\n",
    "        break\n",
    "    predict(sentence)\n",
    "        "
   ]
  },
  {
   "cell_type": "code",
   "execution_count": null,
   "id": "90c9e26f-02e2-49a7-8eb3-7ce250b7469f",
   "metadata": {},
   "outputs": [],
   "source": []
  }
 ],
 "metadata": {
  "kernelspec": {
   "display_name": "Python 3 (ipykernel)",
   "language": "python",
   "name": "python3"
  },
  "language_info": {
   "codemirror_mode": {
    "name": "ipython",
    "version": 3
   },
   "file_extension": ".py",
   "mimetype": "text/x-python",
   "name": "python",
   "nbconvert_exporter": "python",
   "pygments_lexer": "ipython3",
   "version": "3.11.5"
  }
 },
 "nbformat": 4,
 "nbformat_minor": 5
}
