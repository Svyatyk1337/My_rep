{
 "cells": [
  {
   "cell_type": "code",
   "execution_count": 1,
   "id": "f19c4a70-7882-429d-857d-be6b8dced403",
   "metadata": {},
   "outputs": [
    {
     "name": "stderr",
     "output_type": "stream",
     "text": [
      "C:\\Users\\strat\\ProgramData\\Lib\\site-packages\\huggingface_hub\\utils\\_runtime.py:184: UserWarning: Pydantic is installed but cannot be imported. Please check your installation. `huggingface_hub` will default to not using Pydantic. Error message: '{e}'\n",
      "  warnings.warn(\n"
     ]
    }
   ],
   "source": [
    "import torch\n",
    "import torch.nn as nn\n",
    "import torch.nn.functional as F\n",
    "import torchvision\n",
    "import torchvision.transforms as transforms\n",
    "import matplotlib.pyplot as plt\n",
    "import numpy as np"
   ]
  },
  {
   "cell_type": "code",
   "execution_count": 2,
   "id": "13f972fd-d49e-4bdb-a3d9-b6787db46932",
   "metadata": {},
   "outputs": [],
   "source": [
    "# Device configuration\n",
    "device = torch.device( 'cpu')\n",
    "\n",
    "# Hyper-parameters \n",
    "num_epochs = 5\n",
    "batch_size = 4\n",
    "learning_rate = 0.001\n",
    "\n",
    "# dataset has PILImage images of range [0, 1]. \n",
    "# We transform them to Tensors of normalized range [-1, 1]\n",
    "transform = transforms.Compose(\n",
    "    [transforms.ToTensor(),\n",
    "     transforms.Normalize((0.5, 0.5, 0.5), (0.5, 0.5, 0.5))])"
   ]
  },
  {
   "cell_type": "code",
   "execution_count": 3,
   "id": "beee4d84-938e-4bd1-87b5-f74ce267828d",
   "metadata": {},
   "outputs": [
    {
     "name": "stdout",
     "output_type": "stream",
     "text": [
      "Files already downloaded and verified\n",
      "Files already downloaded and verified\n"
     ]
    }
   ],
   "source": [
    "train_dataset = torchvision.datasets.CIFAR10(root='./data', train=True,\n",
    "                                        download=True, transform=transform)\n",
    "\n",
    "test_dataset = torchvision.datasets.CIFAR10(root='./data', train=False,\n",
    "                                       download=True, transform=transform)\n",
    "\n",
    "train_loader = torch.utils.data.DataLoader(train_dataset, batch_size=batch_size,\n",
    "                                          shuffle=True)\n",
    "\n",
    "test_loader = torch.utils.data.DataLoader(test_dataset, batch_size=batch_size,\n",
    "                                         shuffle=False)\n",
    "\n",
    "classes = ('plane', 'car', 'bird', 'cat',\n",
    "           'deer', 'dog', 'frog', 'horse', 'ship', 'truck')"
   ]
  },
  {
   "cell_type": "code",
   "execution_count": 4,
   "id": "49cfd2a8-8c25-467e-a523-289082a666a1",
   "metadata": {},
   "outputs": [],
   "source": [
    "def imshow(img):\n",
    "    img = img / 2 + 0.5  # unnormalize\n",
    "    npimg = img.numpy()\n",
    "    plt.imshow(np.transpose(npimg, (1, 2, 0)))\n",
    "    plt.show()\n"
   ]
  },
  {
   "cell_type": "code",
   "execution_count": 5,
   "id": "6fac1f4d-cb5b-4ee8-8897-6d3d682dbe6e",
   "metadata": {},
   "outputs": [],
   "source": [
    "dataiter = iter(train_loader)\n",
    "images, labels = next(dataiter)"
   ]
  },
  {
   "cell_type": "code",
   "execution_count": 6,
   "id": "fd7a442b-f12b-4c63-8f68-dcc21730e969",
   "metadata": {},
   "outputs": [
    {
     "data": {
      "image/png": "[encoded data removed]",
      "text/plain": [
       "<Figure size 640x480 with 1 Axes>"
      ]
     },
     "metadata": {},
     "output_type": "display_data"
    }
   ],
   "source": [
    "imshow(torchvision.utils.make_grid(images))"
   ]
  },
  {
   "cell_type": "code",
   "execution_count": 7,
   "id": "92d29118-fb09-4a83-a2cd-7791aa3295ff",
   "metadata": {},
   "outputs": [
    {
     "data": {
      "text/plain": [
       "torch.Size([4, 3, 32, 32])"
      ]
     },
     "execution_count": 7,
     "metadata": {},
     "output_type": "execute_result"
    }
   ],
   "source": [
    "images.shape"
   ]
  },
  {
   "cell_type": "code",
   "execution_count": 8,
   "id": "f9d6d50d-2a22-4905-acf6-90568b9c4062",
   "metadata": {},
   "outputs": [],
   "source": [
    "class CNN_Neural_Network(nn.Module):\n",
    "    def __init__(self):\n",
    "        super(CNN_Neural_Network,self).__init__()\n",
    "        self.model = nn.Sequential(\n",
    "            # (n, 3,32,32)\n",
    "            nn.Conv2d(in_channels=3, out_channels=64, kernel_size=3),  # (N, 64, 30, 30)\n",
    "            nn.ReLU(),\n",
    "            nn.MaxPool2d(2, 2),  # (N, 64, 15, 15)\n",
    "            nn.Conv2d(in_channels=64, out_channels=32, kernel_size=3),  # (N, 32, 13, 13)\n",
    "            nn.ReLU(),\n",
    "            nn.Flatten(),\n",
    "            nn.Linear(in_features=32*13*13, out_features=120),\n",
    "            nn.ReLU(),\n",
    "            nn.Linear(in_features=120, out_features=84),\n",
    "            nn.ReLU(),\n",
    "            nn.Linear(84, 10)\n",
    "            )\n",
    "    def forward(self,x):\n",
    "        x = self.model(x)\n",
    "        return x\n",
    "            \n",
    "        "
   ]
  },
  {
   "cell_type": "code",
   "execution_count": 9,
   "id": "d71ff322-3a8f-41b8-a2c9-40d175358cd3",
   "metadata": {},
   "outputs": [
    {
     "name": "stdout",
     "output_type": "stream",
     "text": [
      "CNN_Neural_Network(\n",
      "  (model): Sequential(\n",
      "    (0): Conv2d(3, 64, kernel_size=(3, 3), stride=(1, 1))\n",
      "    (1): ReLU()\n",
      "    (2): MaxPool2d(kernel_size=2, stride=2, padding=0, dilation=1, ceil_mode=False)\n",
      "    (3): Conv2d(64, 32, kernel_size=(3, 3), stride=(1, 1))\n",
      "    (4): ReLU()\n",
      "    (5): Flatten(start_dim=1, end_dim=-1)\n",
      "    (6): Linear(in_features=5408, out_features=120, bias=True)\n",
      "    (7): ReLU()\n",
      "    (8): Linear(in_features=120, out_features=84, bias=True)\n",
      "    (9): ReLU()\n",
      "    (10): Linear(in_features=84, out_features=10, bias=True)\n",
      "  )\n",
      ")\n"
     ]
    }
   ],
   "source": [
    "model = CNN_Neural_Network().to(device)\n",
    "print(model)"
   ]
  },
  {
   "cell_type": "code",
   "execution_count": 10,
   "id": "69b54f6f-b76a-4b02-bc65-7be1ea1dee89",
   "metadata": {},
   "outputs": [
    {
     "name": "stdout",
     "output_type": "stream",
     "text": [
      "Epoch [1/5], Step [2000/12500], Loss: 2.3290\n",
      "Epoch [1/5], Step [4000/12500], Loss: 2.0491\n",
      "Epoch [1/5], Step [6000/12500], Loss: 2.1195\n",
      "Epoch [1/5], Step [8000/12500], Loss: 2.0931\n",
      "Epoch [1/5], Step [10000/12500], Loss: 1.8504\n",
      "Epoch [1/5], Step [12000/12500], Loss: 2.1750\n",
      "Epoch [2/5], Step [2000/12500], Loss: 1.9815\n",
      "Epoch [2/5], Step [4000/12500], Loss: 1.6268\n",
      "Epoch [2/5], Step [6000/12500], Loss: 1.3372\n",
      "Epoch [2/5], Step [8000/12500], Loss: 2.1058\n",
      "Epoch [2/5], Step [10000/12500], Loss: 2.4682\n",
      "Epoch [2/5], Step [12000/12500], Loss: 1.5742\n",
      "Epoch [3/5], Step [2000/12500], Loss: 1.3228\n",
      "Epoch [3/5], Step [4000/12500], Loss: 0.6939\n",
      "Epoch [3/5], Step [6000/12500], Loss: 1.0085\n",
      "Epoch [3/5], Step [8000/12500], Loss: 1.5400\n",
      "Epoch [3/5], Step [10000/12500], Loss: 0.9007\n",
      "Epoch [3/5], Step [12000/12500], Loss: 1.0841\n",
      "Epoch [4/5], Step [2000/12500], Loss: 0.9079\n",
      "Epoch [4/5], Step [4000/12500], Loss: 0.8799\n",
      "Epoch [4/5], Step [6000/12500], Loss: 0.6500\n",
      "Epoch [4/5], Step [8000/12500], Loss: 1.2712\n",
      "Epoch [4/5], Step [10000/12500], Loss: 2.0573\n",
      "Epoch [4/5], Step [12000/12500], Loss: 1.2104\n",
      "Epoch [5/5], Step [2000/12500], Loss: 2.0458\n",
      "Epoch [5/5], Step [4000/12500], Loss: 2.8708\n",
      "Epoch [5/5], Step [6000/12500], Loss: 0.8963\n",
      "Epoch [5/5], Step [8000/12500], Loss: 1.1484\n",
      "Epoch [5/5], Step [10000/12500], Loss: 0.9708\n",
      "Epoch [5/5], Step [12000/12500], Loss: 0.2528\n",
      "Finished Training\n",
      "Accuracy of the network: 58.79 %\n",
      "Accuracy of plane: 55.9 %\n",
      "Accuracy of car: 69.0 %\n",
      "Accuracy of bird: 36.9 %\n",
      "Accuracy of cat: 31.6 %\n",
      "Accuracy of deer: 62.3 %\n",
      "Accuracy of dog: 48.9 %\n",
      "Accuracy of frog: 73.8 %\n",
      "Accuracy of horse: 75.4 %\n",
      "Accuracy of ship: 73.3 %\n",
      "Accuracy of truck: 60.8 %\n"
     ]
    }
   ],
   "source": [
    "model = CNN_Neural_Network().to(device)\n",
    "\n",
    "criterion = nn.CrossEntropyLoss()\n",
    "optimizer = torch.optim.SGD(model.parameters(), lr=learning_rate)\n",
    "\n",
    "n_total_steps = len(train_loader)\n",
    "for epoch in range(num_epochs):\n",
    "    for i, (images, labels) in enumerate(train_loader):\n",
    "        # origin shape: [4, 3, 32, 32] = 4, 3, 1024\n",
    "        # input_layer: 3 input channels, 6 output channels, 5 kernel size\n",
    "        images = images.to(device)\n",
    "        labels = labels.to(device)\n",
    "\n",
    "        # Forward pass\n",
    "        outputs = model(images)\n",
    "        loss = criterion(outputs, labels)\n",
    "\n",
    "        # Backward and optimize\n",
    "        optimizer.zero_grad()\n",
    "        loss.backward()\n",
    "        optimizer.step()\n",
    "\n",
    "        if (i+1) % 2000 == 0:\n",
    "            print (f'Epoch [{epoch+1}/{num_epochs}], Step [{i+1}/{n_total_steps}], Loss: {loss.item():.4f}')\n",
    "\n",
    "print('Finished Training')\n",
    "PATH = './cnn.pth'\n",
    "torch.save(model.state_dict(), PATH)\n",
    "\n",
    "with torch.no_grad():\n",
    "    n_correct = 0\n",
    "    n_samples = 0\n",
    "    n_class_correct = [0 for i in range(10)]\n",
    "    n_class_samples = [0 for i in range(10)]\n",
    "    for images, labels in test_loader:\n",
    "        images = images.to(device)\n",
    "        labels = labels.to(device)\n",
    "        outputs = model(images)\n",
    "        # max returns (value ,index)\n",
    "        _, predicted = torch.max(outputs, 1)\n",
    "        n_samples += labels.size(0)\n",
    "        n_correct += (predicted == labels).sum().item()\n",
    "        \n",
    "        for i in range(batch_size):\n",
    "            label = labels[i]\n",
    "            pred = predicted[i]\n",
    "            if (label == pred):\n",
    "                n_class_correct[label] += 1\n",
    "            n_class_samples[label] += 1\n",
    "\n",
    "    acc = 100.0 * n_correct / n_samples\n",
    "    print(f'Accuracy of the network: {acc} %')\n",
    "\n",
    "    for i in range(10):\n",
    "        acc = 100.0 * n_class_correct[i] / n_class_samples[i]\n",
    "        print(f'Accuracy of {classes[i]}: {acc} %')"
   ]
  },
  {
   "cell_type": "code",
   "execution_count": null,
   "id": "596b8d19-0e6e-45ea-ae57-721c6da1c90e",
   "metadata": {},
   "outputs": [],
   "source": []
  },
  {
   "cell_type": "code",
   "execution_count": null,
   "id": "fdd330cf-f896-4942-9667-a5008cd3247a",
   "metadata": {},
   "outputs": [],
   "source": []
  }
 ],
 "metadata": {
  "kernelspec": {
   "display_name": "Python 3 (ipykernel)",
   "language": "python",
   "name": "python3"
  },
  "language_info": {
   "codemirror_mode": {
    "name": "ipython",
    "version": 3
   },
   "file_extension": ".py",
   "mimetype": "text/x-python",
   "name": "python",
   "nbconvert_exporter": "python",
   "pygments_lexer": "ipython3",
   "version": "3.11.5"
  }
 },
 "nbformat": 4,
 "nbformat_minor": 5
}
