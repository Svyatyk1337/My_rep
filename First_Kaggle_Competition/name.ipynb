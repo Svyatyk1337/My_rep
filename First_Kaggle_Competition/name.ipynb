{
 "cells": [
  {
   "cell_type": "code",
   "execution_count": 2,
   "id": "initial_id",
   "metadata": {
    "collapsed": true,
    "ExecuteTime": {
     "end_time": "2024-03-25T19:32:35.806015500Z",
     "start_time": "2024-03-25T19:32:35.779864900Z"
    }
   },
   "outputs": [],
   "source": [
    "import pandas as pd \n",
    "import numpy as np\n",
    "import matplotlib.pyplot as plt\n",
    "import seaborn as sns"
   ]
  },
  {
   "cell_type": "code",
   "outputs": [
    {
     "data": {
      "text/plain": "  PassengerId HomePlanet CryoSleep  Cabin  Destination   Age    VIP  \\\n0     0001_01     Europa     False  B/0/P  TRAPPIST-1e  39.0  False   \n1     0002_01      Earth     False  F/0/S  TRAPPIST-1e  24.0  False   \n2     0003_01     Europa     False  A/0/S  TRAPPIST-1e  58.0   True   \n3     0003_02     Europa     False  A/0/S  TRAPPIST-1e  33.0  False   \n4     0004_01      Earth     False  F/1/S  TRAPPIST-1e  16.0  False   \n\n   RoomService  FoodCourt  ShoppingMall     Spa  VRDeck               Name  \\\n0          0.0        0.0           0.0     0.0     0.0    Maham Ofracculy   \n1        109.0        9.0          25.0   549.0    44.0       Juanna Vines   \n2         43.0     3576.0           0.0  6715.0    49.0      Altark Susent   \n3          0.0     1283.0         371.0  3329.0   193.0       Solam Susent   \n4        303.0       70.0         151.0   565.0     2.0  Willy Santantines   \n\n   Transported  \n0        False  \n1         True  \n2        False  \n3        False  \n4         True  ",
      "text/html": "<div>\n<style scoped>\n    .dataframe tbody tr th:only-of-type {\n        vertical-align: middle;\n    }\n\n    .dataframe tbody tr th {\n        vertical-align: top;\n    }\n\n    .dataframe thead th {\n        text-align: right;\n    }\n</style>\n<table border=\"1\" class=\"dataframe\">\n  <thead>\n    <tr style=\"text-align: right;\">\n      <th></th>\n      <th>PassengerId</th>\n      <th>HomePlanet</th>\n      <th>CryoSleep</th>\n      <th>Cabin</th>\n      <th>Destination</th>\n      <th>Age</th>\n      <th>VIP</th>\n      <th>RoomService</th>\n      <th>FoodCourt</th>\n      <th>ShoppingMall</th>\n      <th>Spa</th>\n      <th>VRDeck</th>\n      <th>Name</th>\n      <th>Transported</th>\n    </tr>\n  </thead>\n  <tbody>\n    <tr>\n      <th>0</th>\n      <td>0001_01</td>\n      <td>Europa</td>\n      <td>False</td>\n      <td>B/0/P</td>\n      <td>TRAPPIST-1e</td>\n      <td>39.0</td>\n      <td>False</td>\n      <td>0.0</td>\n      <td>0.0</td>\n      <td>0.0</td>\n      <td>0.0</td>\n      <td>0.0</td>\n      <td>Maham Ofracculy</td>\n      <td>False</td>\n    </tr>\n    <tr>\n      <th>1</th>\n      <td>0002_01</td>\n      <td>Earth</td>\n      <td>False</td>\n      <td>F/0/S</td>\n      <td>TRAPPIST-1e</td>\n      <td>24.0</td>\n      <td>False</td>\n      <td>109.0</td>\n      <td>9.0</td>\n      <td>25.0</td>\n      <td>549.0</td>\n      <td>44.0</td>\n      <td>Juanna Vines</td>\n      <td>True</td>\n    </tr>\n    <tr>\n      <th>2</th>\n      <td>0003_01</td>\n      <td>Europa</td>\n      <td>False</td>\n      <td>A/0/S</td>\n      <td>TRAPPIST-1e</td>\n      <td>58.0</td>\n      <td>True</td>\n      <td>43.0</td>\n      <td>3576.0</td>\n      <td>0.0</td>\n      <td>6715.0</td>\n      <td>49.0</td>\n      <td>Altark Susent</td>\n      <td>False</td>\n    </tr>\n    <tr>\n      <th>3</th>\n      <td>0003_02</td>\n      <td>Europa</td>\n      <td>False</td>\n      <td>A/0/S</td>\n      <td>TRAPPIST-1e</td>\n      <td>33.0</td>\n      <td>False</td>\n      <td>0.0</td>\n      <td>1283.0</td>\n      <td>371.0</td>\n      <td>3329.0</td>\n      <td>193.0</td>\n      <td>Solam Susent</td>\n      <td>False</td>\n    </tr>\n    <tr>\n      <th>4</th>\n      <td>0004_01</td>\n      <td>Earth</td>\n      <td>False</td>\n      <td>F/1/S</td>\n      <td>TRAPPIST-1e</td>\n      <td>16.0</td>\n      <td>False</td>\n      <td>303.0</td>\n      <td>70.0</td>\n      <td>151.0</td>\n      <td>565.0</td>\n      <td>2.0</td>\n      <td>Willy Santantines</td>\n      <td>True</td>\n    </tr>\n  </tbody>\n</table>\n</div>"
     },
     "execution_count": 3,
     "metadata": {},
     "output_type": "execute_result"
    }
   ],
   "source": [
    "data = pd.read_csv('train.csv')\n",
    "data.head()"
   ],
   "metadata": {
    "collapsed": false,
    "ExecuteTime": {
     "end_time": "2024-03-25T19:32:35.958477600Z",
     "start_time": "2024-03-25T19:32:35.920664500Z"
    }
   },
   "id": "b99a4a7b9f4fc985",
   "execution_count": 3
  },
  {
   "cell_type": "code",
   "outputs": [
    {
     "data": {
      "text/plain": "PassengerId       0\nHomePlanet      201\nCryoSleep       217\nCabin           199\nDestination     182\nAge             179\nVIP             203\nRoomService     181\nFoodCourt       183\nShoppingMall    208\nSpa             183\nVRDeck          188\nName            200\nTransported       0\ndtype: int64"
     },
     "execution_count": 4,
     "metadata": {},
     "output_type": "execute_result"
    }
   ],
   "source": [
    "data.isna().sum()"
   ],
   "metadata": {
    "collapsed": false,
    "ExecuteTime": {
     "end_time": "2024-03-25T19:32:36.214405400Z",
     "start_time": "2024-03-25T19:32:36.113588300Z"
    }
   },
   "id": "47536b87ec0e13bd",
   "execution_count": 4
  },
  {
   "cell_type": "code",
   "outputs": [],
   "source": [
    "data['Transported'] = data['Transported'].astype(float)"
   ],
   "metadata": {
    "collapsed": false,
    "ExecuteTime": {
     "end_time": "2024-03-25T19:32:36.247950200Z",
     "start_time": "2024-03-25T19:32:36.222860600Z"
    }
   },
   "id": "1f8e91660e32fa01",
   "execution_count": 5
  },
  {
   "cell_type": "code",
   "outputs": [
    {
     "data": {
      "text/plain": "  PassengerId HomePlanet CryoSleep  Cabin  Destination   Age    VIP  \\\n0     0001_01     Europa     False  B/0/P  TRAPPIST-1e  39.0  False   \n1     0002_01      Earth     False  F/0/S  TRAPPIST-1e  24.0  False   \n2     0003_01     Europa     False  A/0/S  TRAPPIST-1e  58.0   True   \n3     0003_02     Europa     False  A/0/S  TRAPPIST-1e  33.0  False   \n4     0004_01      Earth     False  F/1/S  TRAPPIST-1e  16.0  False   \n\n   RoomService  FoodCourt  ShoppingMall     Spa  VRDeck               Name  \\\n0          0.0        0.0           0.0     0.0     0.0    Maham Ofracculy   \n1        109.0        9.0          25.0   549.0    44.0       Juanna Vines   \n2         43.0     3576.0           0.0  6715.0    49.0      Altark Susent   \n3          0.0     1283.0         371.0  3329.0   193.0       Solam Susent   \n4        303.0       70.0         151.0   565.0     2.0  Willy Santantines   \n\n   Transported  \n0          0.0  \n1          1.0  \n2          0.0  \n3          0.0  \n4          1.0  ",
      "text/html": "<div>\n<style scoped>\n    .dataframe tbody tr th:only-of-type {\n        vertical-align: middle;\n    }\n\n    .dataframe tbody tr th {\n        vertical-align: top;\n    }\n\n    .dataframe thead th {\n        text-align: right;\n    }\n</style>\n<table border=\"1\" class=\"dataframe\">\n  <thead>\n    <tr style=\"text-align: right;\">\n      <th></th>\n      <th>PassengerId</th>\n      <th>HomePlanet</th>\n      <th>CryoSleep</th>\n      <th>Cabin</th>\n      <th>Destination</th>\n      <th>Age</th>\n      <th>VIP</th>\n      <th>RoomService</th>\n      <th>FoodCourt</th>\n      <th>ShoppingMall</th>\n      <th>Spa</th>\n      <th>VRDeck</th>\n      <th>Name</th>\n      <th>Transported</th>\n    </tr>\n  </thead>\n  <tbody>\n    <tr>\n      <th>0</th>\n      <td>0001_01</td>\n      <td>Europa</td>\n      <td>False</td>\n      <td>B/0/P</td>\n      <td>TRAPPIST-1e</td>\n      <td>39.0</td>\n      <td>False</td>\n      <td>0.0</td>\n      <td>0.0</td>\n      <td>0.0</td>\n      <td>0.0</td>\n      <td>0.0</td>\n      <td>Maham Ofracculy</td>\n      <td>0.0</td>\n    </tr>\n    <tr>\n      <th>1</th>\n      <td>0002_01</td>\n      <td>Earth</td>\n      <td>False</td>\n      <td>F/0/S</td>\n      <td>TRAPPIST-1e</td>\n      <td>24.0</td>\n      <td>False</td>\n      <td>109.0</td>\n      <td>9.0</td>\n      <td>25.0</td>\n      <td>549.0</td>\n      <td>44.0</td>\n      <td>Juanna Vines</td>\n      <td>1.0</td>\n    </tr>\n    <tr>\n      <th>2</th>\n      <td>0003_01</td>\n      <td>Europa</td>\n      <td>False</td>\n      <td>A/0/S</td>\n      <td>TRAPPIST-1e</td>\n      <td>58.0</td>\n      <td>True</td>\n      <td>43.0</td>\n      <td>3576.0</td>\n      <td>0.0</td>\n      <td>6715.0</td>\n      <td>49.0</td>\n      <td>Altark Susent</td>\n      <td>0.0</td>\n    </tr>\n    <tr>\n      <th>3</th>\n      <td>0003_02</td>\n      <td>Europa</td>\n      <td>False</td>\n      <td>A/0/S</td>\n      <td>TRAPPIST-1e</td>\n      <td>33.0</td>\n      <td>False</td>\n      <td>0.0</td>\n      <td>1283.0</td>\n      <td>371.0</td>\n      <td>3329.0</td>\n      <td>193.0</td>\n      <td>Solam Susent</td>\n      <td>0.0</td>\n    </tr>\n    <tr>\n      <th>4</th>\n      <td>0004_01</td>\n      <td>Earth</td>\n      <td>False</td>\n      <td>F/1/S</td>\n      <td>TRAPPIST-1e</td>\n      <td>16.0</td>\n      <td>False</td>\n      <td>303.0</td>\n      <td>70.0</td>\n      <td>151.0</td>\n      <td>565.0</td>\n      <td>2.0</td>\n      <td>Willy Santantines</td>\n      <td>1.0</td>\n    </tr>\n  </tbody>\n</table>\n</div>"
     },
     "execution_count": 6,
     "metadata": {},
     "output_type": "execute_result"
    }
   ],
   "source": [
    "data.head()"
   ],
   "metadata": {
    "collapsed": false,
    "ExecuteTime": {
     "end_time": "2024-03-25T19:32:36.378683100Z",
     "start_time": "2024-03-25T19:32:36.333734200Z"
    }
   },
   "id": "62cef7fa07246e49",
   "execution_count": 6
  },
  {
   "cell_type": "code",
   "outputs": [
    {
     "data": {
      "text/plain": "  PassengerId HomePlanet CryoSleep  Cabin  Destination   Age    VIP  \\\n0     0001_01     Europa     False  B/0/P  TRAPPIST-1e  39.0  False   \n1     0002_01      Earth     False  F/0/S  TRAPPIST-1e  24.0  False   \n2     0003_01     Europa     False  A/0/S  TRAPPIST-1e  58.0   True   \n3     0003_02     Europa     False  A/0/S  TRAPPIST-1e  33.0  False   \n4     0004_01      Earth     False  F/1/S  TRAPPIST-1e  16.0  False   \n\n   RoomService  FoodCourt  ShoppingMall     Spa  VRDeck               Name  \\\n0          0.0        0.0           0.0     0.0     0.0    Maham Ofracculy   \n1        109.0        9.0          25.0   549.0    44.0       Juanna Vines   \n2         43.0     3576.0           0.0  6715.0    49.0      Altark Susent   \n3          0.0     1283.0         371.0  3329.0   193.0       Solam Susent   \n4        303.0       70.0         151.0   565.0     2.0  Willy Santantines   \n\n   Transported Group People  \n0          0.0  0001     01  \n1          1.0  0002     01  \n2          0.0  0003     01  \n3          0.0  0003     02  \n4          1.0  0004     01  ",
      "text/html": "<div>\n<style scoped>\n    .dataframe tbody tr th:only-of-type {\n        vertical-align: middle;\n    }\n\n    .dataframe tbody tr th {\n        vertical-align: top;\n    }\n\n    .dataframe thead th {\n        text-align: right;\n    }\n</style>\n<table border=\"1\" class=\"dataframe\">\n  <thead>\n    <tr style=\"text-align: right;\">\n      <th></th>\n      <th>PassengerId</th>\n      <th>HomePlanet</th>\n      <th>CryoSleep</th>\n      <th>Cabin</th>\n      <th>Destination</th>\n      <th>Age</th>\n      <th>VIP</th>\n      <th>RoomService</th>\n      <th>FoodCourt</th>\n      <th>ShoppingMall</th>\n      <th>Spa</th>\n      <th>VRDeck</th>\n      <th>Name</th>\n      <th>Transported</th>\n      <th>Group</th>\n      <th>People</th>\n    </tr>\n  </thead>\n  <tbody>\n    <tr>\n      <th>0</th>\n      <td>0001_01</td>\n      <td>Europa</td>\n      <td>False</td>\n      <td>B/0/P</td>\n      <td>TRAPPIST-1e</td>\n      <td>39.0</td>\n      <td>False</td>\n      <td>0.0</td>\n      <td>0.0</td>\n      <td>0.0</td>\n      <td>0.0</td>\n      <td>0.0</td>\n      <td>Maham Ofracculy</td>\n      <td>0.0</td>\n      <td>0001</td>\n      <td>01</td>\n    </tr>\n    <tr>\n      <th>1</th>\n      <td>0002_01</td>\n      <td>Earth</td>\n      <td>False</td>\n      <td>F/0/S</td>\n      <td>TRAPPIST-1e</td>\n      <td>24.0</td>\n      <td>False</td>\n      <td>109.0</td>\n      <td>9.0</td>\n      <td>25.0</td>\n      <td>549.0</td>\n      <td>44.0</td>\n      <td>Juanna Vines</td>\n      <td>1.0</td>\n      <td>0002</td>\n      <td>01</td>\n    </tr>\n    <tr>\n      <th>2</th>\n      <td>0003_01</td>\n      <td>Europa</td>\n      <td>False</td>\n      <td>A/0/S</td>\n      <td>TRAPPIST-1e</td>\n      <td>58.0</td>\n      <td>True</td>\n      <td>43.0</td>\n      <td>3576.0</td>\n      <td>0.0</td>\n      <td>6715.0</td>\n      <td>49.0</td>\n      <td>Altark Susent</td>\n      <td>0.0</td>\n      <td>0003</td>\n      <td>01</td>\n    </tr>\n    <tr>\n      <th>3</th>\n      <td>0003_02</td>\n      <td>Europa</td>\n      <td>False</td>\n      <td>A/0/S</td>\n      <td>TRAPPIST-1e</td>\n      <td>33.0</td>\n      <td>False</td>\n      <td>0.0</td>\n      <td>1283.0</td>\n      <td>371.0</td>\n      <td>3329.0</td>\n      <td>193.0</td>\n      <td>Solam Susent</td>\n      <td>0.0</td>\n      <td>0003</td>\n      <td>02</td>\n    </tr>\n    <tr>\n      <th>4</th>\n      <td>0004_01</td>\n      <td>Earth</td>\n      <td>False</td>\n      <td>F/1/S</td>\n      <td>TRAPPIST-1e</td>\n      <td>16.0</td>\n      <td>False</td>\n      <td>303.0</td>\n      <td>70.0</td>\n      <td>151.0</td>\n      <td>565.0</td>\n      <td>2.0</td>\n      <td>Willy Santantines</td>\n      <td>1.0</td>\n      <td>0004</td>\n      <td>01</td>\n    </tr>\n  </tbody>\n</table>\n</div>"
     },
     "execution_count": 7,
     "metadata": {},
     "output_type": "execute_result"
    }
   ],
   "source": [
    "Group = data['PassengerId'].str.split('_').str.get(0)\n",
    "# Group = Group.g\n",
    "People = data['PassengerId'].str.split('_').str.get(1)\n",
    "\n",
    "data['Group'], data['People'] = Group, People\n",
    "\n",
    "data.head()"
   ],
   "metadata": {
    "collapsed": false,
    "ExecuteTime": {
     "end_time": "2024-03-25T19:32:36.563352200Z",
     "start_time": "2024-03-25T19:32:36.491006800Z"
    }
   },
   "id": "d5d391debbb63ed2",
   "execution_count": 7
  },
  {
   "cell_type": "code",
   "outputs": [
    {
     "data": {
      "text/plain": "  PassengerId HomePlanet CryoSleep  Cabin  Destination   Age    VIP  \\\n0     0001_01     Europa     False  B/0/P  TRAPPIST-1e  39.0  False   \n1     0002_01      Earth     False  F/0/S  TRAPPIST-1e  24.0  False   \n2     0003_01     Europa     False  A/0/S  TRAPPIST-1e  58.0   True   \n3     0003_02     Europa     False  A/0/S  TRAPPIST-1e  33.0  False   \n4     0004_01      Earth     False  F/1/S  TRAPPIST-1e  16.0  False   \n\n   RoomService  FoodCourt  ShoppingMall     Spa  VRDeck               Name  \\\n0          0.0        0.0           0.0     0.0     0.0    Maham Ofracculy   \n1        109.0        9.0          25.0   549.0    44.0       Juanna Vines   \n2         43.0     3576.0           0.0  6715.0    49.0      Altark Susent   \n3          0.0     1283.0         371.0  3329.0   193.0       Solam Susent   \n4        303.0       70.0         151.0   565.0     2.0  Willy Santantines   \n\n   Transported Group People Deck Num Side  \n0          0.0  0001     01    B   0    P  \n1          1.0  0002     01    F   0    S  \n2          0.0  0003     01    A   0    S  \n3          0.0  0003     02    A   0    S  \n4          1.0  0004     01    F   1    S  ",
      "text/html": "<div>\n<style scoped>\n    .dataframe tbody tr th:only-of-type {\n        vertical-align: middle;\n    }\n\n    .dataframe tbody tr th {\n        vertical-align: top;\n    }\n\n    .dataframe thead th {\n        text-align: right;\n    }\n</style>\n<table border=\"1\" class=\"dataframe\">\n  <thead>\n    <tr style=\"text-align: right;\">\n      <th></th>\n      <th>PassengerId</th>\n      <th>HomePlanet</th>\n      <th>CryoSleep</th>\n      <th>Cabin</th>\n      <th>Destination</th>\n      <th>Age</th>\n      <th>VIP</th>\n      <th>RoomService</th>\n      <th>FoodCourt</th>\n      <th>ShoppingMall</th>\n      <th>Spa</th>\n      <th>VRDeck</th>\n      <th>Name</th>\n      <th>Transported</th>\n      <th>Group</th>\n      <th>People</th>\n      <th>Deck</th>\n      <th>Num</th>\n      <th>Side</th>\n    </tr>\n  </thead>\n  <tbody>\n    <tr>\n      <th>0</th>\n      <td>0001_01</td>\n      <td>Europa</td>\n      <td>False</td>\n      <td>B/0/P</td>\n      <td>TRAPPIST-1e</td>\n      <td>39.0</td>\n      <td>False</td>\n      <td>0.0</td>\n      <td>0.0</td>\n      <td>0.0</td>\n      <td>0.0</td>\n      <td>0.0</td>\n      <td>Maham Ofracculy</td>\n      <td>0.0</td>\n      <td>0001</td>\n      <td>01</td>\n      <td>B</td>\n      <td>0</td>\n      <td>P</td>\n    </tr>\n    <tr>\n      <th>1</th>\n      <td>0002_01</td>\n      <td>Earth</td>\n      <td>False</td>\n      <td>F/0/S</td>\n      <td>TRAPPIST-1e</td>\n      <td>24.0</td>\n      <td>False</td>\n      <td>109.0</td>\n      <td>9.0</td>\n      <td>25.0</td>\n      <td>549.0</td>\n      <td>44.0</td>\n      <td>Juanna Vines</td>\n      <td>1.0</td>\n      <td>0002</td>\n      <td>01</td>\n      <td>F</td>\n      <td>0</td>\n      <td>S</td>\n    </tr>\n    <tr>\n      <th>2</th>\n      <td>0003_01</td>\n      <td>Europa</td>\n      <td>False</td>\n      <td>A/0/S</td>\n      <td>TRAPPIST-1e</td>\n      <td>58.0</td>\n      <td>True</td>\n      <td>43.0</td>\n      <td>3576.0</td>\n      <td>0.0</td>\n      <td>6715.0</td>\n      <td>49.0</td>\n      <td>Altark Susent</td>\n      <td>0.0</td>\n      <td>0003</td>\n      <td>01</td>\n      <td>A</td>\n      <td>0</td>\n      <td>S</td>\n    </tr>\n    <tr>\n      <th>3</th>\n      <td>0003_02</td>\n      <td>Europa</td>\n      <td>False</td>\n      <td>A/0/S</td>\n      <td>TRAPPIST-1e</td>\n      <td>33.0</td>\n      <td>False</td>\n      <td>0.0</td>\n      <td>1283.0</td>\n      <td>371.0</td>\n      <td>3329.0</td>\n      <td>193.0</td>\n      <td>Solam Susent</td>\n      <td>0.0</td>\n      <td>0003</td>\n      <td>02</td>\n      <td>A</td>\n      <td>0</td>\n      <td>S</td>\n    </tr>\n    <tr>\n      <th>4</th>\n      <td>0004_01</td>\n      <td>Earth</td>\n      <td>False</td>\n      <td>F/1/S</td>\n      <td>TRAPPIST-1e</td>\n      <td>16.0</td>\n      <td>False</td>\n      <td>303.0</td>\n      <td>70.0</td>\n      <td>151.0</td>\n      <td>565.0</td>\n      <td>2.0</td>\n      <td>Willy Santantines</td>\n      <td>1.0</td>\n      <td>0004</td>\n      <td>01</td>\n      <td>F</td>\n      <td>1</td>\n      <td>S</td>\n    </tr>\n  </tbody>\n</table>\n</div>"
     },
     "execution_count": 8,
     "metadata": {},
     "output_type": "execute_result"
    }
   ],
   "source": [
    "Deck = data['Cabin'].str.split('/').str.get(0)\n",
    "Num = data['Cabin'].str.split('/').str.get(1)\n",
    "Side = data['Cabin'].str.split('/').str.get(2)\n",
    "data['Deck'], data['Num'], data['Side'] = Deck, Num, Side\n",
    "data.head()"
   ],
   "metadata": {
    "collapsed": false,
    "ExecuteTime": {
     "end_time": "2024-03-25T19:32:36.666268600Z",
     "start_time": "2024-03-25T19:32:36.581288500Z"
    }
   },
   "id": "9f89d03101341ab3",
   "execution_count": 8
  },
  {
   "cell_type": "code",
   "outputs": [
    {
     "data": {
      "text/plain": "  PassengerId HomePlanet CryoSleep  Cabin  Destination   Age    VIP  \\\n0     0001_01     Europa     False  B/0/P  TRAPPIST-1e  39.0  False   \n1     0002_01      Earth     False  F/0/S  TRAPPIST-1e  24.0  False   \n2     0003_01     Europa     False  A/0/S  TRAPPIST-1e  58.0   True   \n3     0003_02     Europa     False  A/0/S  TRAPPIST-1e  33.0  False   \n4     0004_01      Earth     False  F/1/S  TRAPPIST-1e  16.0  False   \n\n   RoomService  FoodCourt  ShoppingMall     Spa  VRDeck               Name  \\\n0          0.0        0.0           0.0     0.0     0.0    Maham Ofracculy   \n1        109.0        9.0          25.0   549.0    44.0       Juanna Vines   \n2         43.0     3576.0           0.0  6715.0    49.0      Altark Susent   \n3          0.0     1283.0         371.0  3329.0   193.0       Solam Susent   \n4        303.0       70.0         151.0   565.0     2.0  Willy Santantines   \n\n   Transported Group People Deck Num Side  Total_Bill  \n0          0.0  0001     01    B   0    P         0.0  \n1          1.0  0002     01    F   0    S       736.0  \n2          0.0  0003     01    A   0    S     10383.0  \n3          0.0  0003     02    A   0    S      5176.0  \n4          1.0  0004     01    F   1    S      1091.0  ",
      "text/html": "<div>\n<style scoped>\n    .dataframe tbody tr th:only-of-type {\n        vertical-align: middle;\n    }\n\n    .dataframe tbody tr th {\n        vertical-align: top;\n    }\n\n    .dataframe thead th {\n        text-align: right;\n    }\n</style>\n<table border=\"1\" class=\"dataframe\">\n  <thead>\n    <tr style=\"text-align: right;\">\n      <th></th>\n      <th>PassengerId</th>\n      <th>HomePlanet</th>\n      <th>CryoSleep</th>\n      <th>Cabin</th>\n      <th>Destination</th>\n      <th>Age</th>\n      <th>VIP</th>\n      <th>RoomService</th>\n      <th>FoodCourt</th>\n      <th>ShoppingMall</th>\n      <th>Spa</th>\n      <th>VRDeck</th>\n      <th>Name</th>\n      <th>Transported</th>\n      <th>Group</th>\n      <th>People</th>\n      <th>Deck</th>\n      <th>Num</th>\n      <th>Side</th>\n      <th>Total_Bill</th>\n    </tr>\n  </thead>\n  <tbody>\n    <tr>\n      <th>0</th>\n      <td>0001_01</td>\n      <td>Europa</td>\n      <td>False</td>\n      <td>B/0/P</td>\n      <td>TRAPPIST-1e</td>\n      <td>39.0</td>\n      <td>False</td>\n      <td>0.0</td>\n      <td>0.0</td>\n      <td>0.0</td>\n      <td>0.0</td>\n      <td>0.0</td>\n      <td>Maham Ofracculy</td>\n      <td>0.0</td>\n      <td>0001</td>\n      <td>01</td>\n      <td>B</td>\n      <td>0</td>\n      <td>P</td>\n      <td>0.0</td>\n    </tr>\n    <tr>\n      <th>1</th>\n      <td>0002_01</td>\n      <td>Earth</td>\n      <td>False</td>\n      <td>F/0/S</td>\n      <td>TRAPPIST-1e</td>\n      <td>24.0</td>\n      <td>False</td>\n      <td>109.0</td>\n      <td>9.0</td>\n      <td>25.0</td>\n      <td>549.0</td>\n      <td>44.0</td>\n      <td>Juanna Vines</td>\n      <td>1.0</td>\n      <td>0002</td>\n      <td>01</td>\n      <td>F</td>\n      <td>0</td>\n      <td>S</td>\n      <td>736.0</td>\n    </tr>\n    <tr>\n      <th>2</th>\n      <td>0003_01</td>\n      <td>Europa</td>\n      <td>False</td>\n      <td>A/0/S</td>\n      <td>TRAPPIST-1e</td>\n      <td>58.0</td>\n      <td>True</td>\n      <td>43.0</td>\n      <td>3576.0</td>\n      <td>0.0</td>\n      <td>6715.0</td>\n      <td>49.0</td>\n      <td>Altark Susent</td>\n      <td>0.0</td>\n      <td>0003</td>\n      <td>01</td>\n      <td>A</td>\n      <td>0</td>\n      <td>S</td>\n      <td>10383.0</td>\n    </tr>\n    <tr>\n      <th>3</th>\n      <td>0003_02</td>\n      <td>Europa</td>\n      <td>False</td>\n      <td>A/0/S</td>\n      <td>TRAPPIST-1e</td>\n      <td>33.0</td>\n      <td>False</td>\n      <td>0.0</td>\n      <td>1283.0</td>\n      <td>371.0</td>\n      <td>3329.0</td>\n      <td>193.0</td>\n      <td>Solam Susent</td>\n      <td>0.0</td>\n      <td>0003</td>\n      <td>02</td>\n      <td>A</td>\n      <td>0</td>\n      <td>S</td>\n      <td>5176.0</td>\n    </tr>\n    <tr>\n      <th>4</th>\n      <td>0004_01</td>\n      <td>Earth</td>\n      <td>False</td>\n      <td>F/1/S</td>\n      <td>TRAPPIST-1e</td>\n      <td>16.0</td>\n      <td>False</td>\n      <td>303.0</td>\n      <td>70.0</td>\n      <td>151.0</td>\n      <td>565.0</td>\n      <td>2.0</td>\n      <td>Willy Santantines</td>\n      <td>1.0</td>\n      <td>0004</td>\n      <td>01</td>\n      <td>F</td>\n      <td>1</td>\n      <td>S</td>\n      <td>1091.0</td>\n    </tr>\n  </tbody>\n</table>\n</div>"
     },
     "execution_count": 9,
     "metadata": {},
     "output_type": "execute_result"
    }
   ],
   "source": [
    "Total_Bill = data['FoodCourt'] + data['ShoppingMall']+data['RoomService'] + data['Spa']+data['VRDeck']\n",
    "data['Total_Bill'] = Total_Bill\n",
    "data.head()"
   ],
   "metadata": {
    "collapsed": false,
    "ExecuteTime": {
     "end_time": "2024-03-25T19:32:36.762725400Z",
     "start_time": "2024-03-25T19:32:36.688452200Z"
    }
   },
   "id": "f1c722f083cd5f1b",
   "execution_count": 9
  },
  {
   "cell_type": "code",
   "outputs": [
    {
     "data": {
      "text/plain": "Destination\nTRAPPIST-1e      5915\n55 Cancri e      1800\nPSO J318.5-22     796\nName: count, dtype: int64"
     },
     "execution_count": 10,
     "metadata": {},
     "output_type": "execute_result"
    }
   ],
   "source": [
    "data['Destination'].value_counts()"
   ],
   "metadata": {
    "collapsed": false,
    "ExecuteTime": {
     "end_time": "2024-03-25T19:32:37.085990800Z",
     "start_time": "2024-03-25T19:32:37.058427600Z"
    }
   },
   "id": "bf41b3c8d3137f5b",
   "execution_count": 10
  },
  {
   "cell_type": "code",
   "outputs": [],
   "source": [
    "data['VIP'] = data['VIP'].astype(float)\n",
    "data['CryoSleep'] = data['CryoSleep'].astype(float)\n",
    "\n",
    "data['Age'] = data['Age'].fillna(data['Age'].mean())"
   ],
   "metadata": {
    "collapsed": false,
    "ExecuteTime": {
     "end_time": "2024-03-25T19:32:37.458399600Z",
     "start_time": "2024-03-25T19:32:37.446108100Z"
    }
   },
   "id": "38d3ac46c889c4a0",
   "execution_count": 11
  },
  {
   "cell_type": "code",
   "outputs": [
    {
     "data": {
      "text/plain": "  PassengerId HomePlanet  CryoSleep  Cabin  Destination       Age  VIP  \\\n0     0001_01     Europa        0.0  B/0/P  TRAPPIST-1e     18-40  0.0   \n1     0002_01      Earth        0.0  F/0/S  TRAPPIST-1e     18-40  0.0   \n2     0003_01     Europa        0.0  A/0/S  TRAPPIST-1e     40-60  1.0   \n3     0003_02     Europa        0.0  A/0/S  TRAPPIST-1e     18-40  0.0   \n4     0004_01      Earth        0.0  F/1/S  TRAPPIST-1e  under 18  0.0   \n\n   RoomService  FoodCourt  ShoppingMall     Spa  VRDeck               Name  \\\n0          0.0        0.0           0.0     0.0     0.0    Maham Ofracculy   \n1        109.0        9.0          25.0   549.0    44.0       Juanna Vines   \n2         43.0     3576.0           0.0  6715.0    49.0      Altark Susent   \n3          0.0     1283.0         371.0  3329.0   193.0       Solam Susent   \n4        303.0       70.0         151.0   565.0     2.0  Willy Santantines   \n\n   Transported Group People Deck Num Side  Total_Bill  \n0          0.0  0001     01    B   0    P         0.0  \n1          1.0  0002     01    F   0    S       736.0  \n2          0.0  0003     01    A   0    S     10383.0  \n3          0.0  0003     02    A   0    S      5176.0  \n4          1.0  0004     01    F   1    S      1091.0  ",
      "text/html": "<div>\n<style scoped>\n    .dataframe tbody tr th:only-of-type {\n        vertical-align: middle;\n    }\n\n    .dataframe tbody tr th {\n        vertical-align: top;\n    }\n\n    .dataframe thead th {\n        text-align: right;\n    }\n</style>\n<table border=\"1\" class=\"dataframe\">\n  <thead>\n    <tr style=\"text-align: right;\">\n      <th></th>\n      <th>PassengerId</th>\n      <th>HomePlanet</th>\n      <th>CryoSleep</th>\n      <th>Cabin</th>\n      <th>Destination</th>\n      <th>Age</th>\n      <th>VIP</th>\n      <th>RoomService</th>\n      <th>FoodCourt</th>\n      <th>ShoppingMall</th>\n      <th>Spa</th>\n      <th>VRDeck</th>\n      <th>Name</th>\n      <th>Transported</th>\n      <th>Group</th>\n      <th>People</th>\n      <th>Deck</th>\n      <th>Num</th>\n      <th>Side</th>\n      <th>Total_Bill</th>\n    </tr>\n  </thead>\n  <tbody>\n    <tr>\n      <th>0</th>\n      <td>0001_01</td>\n      <td>Europa</td>\n      <td>0.0</td>\n      <td>B/0/P</td>\n      <td>TRAPPIST-1e</td>\n      <td>18-40</td>\n      <td>0.0</td>\n      <td>0.0</td>\n      <td>0.0</td>\n      <td>0.0</td>\n      <td>0.0</td>\n      <td>0.0</td>\n      <td>Maham Ofracculy</td>\n      <td>0.0</td>\n      <td>0001</td>\n      <td>01</td>\n      <td>B</td>\n      <td>0</td>\n      <td>P</td>\n      <td>0.0</td>\n    </tr>\n    <tr>\n      <th>1</th>\n      <td>0002_01</td>\n      <td>Earth</td>\n      <td>0.0</td>\n      <td>F/0/S</td>\n      <td>TRAPPIST-1e</td>\n      <td>18-40</td>\n      <td>0.0</td>\n      <td>109.0</td>\n      <td>9.0</td>\n      <td>25.0</td>\n      <td>549.0</td>\n      <td>44.0</td>\n      <td>Juanna Vines</td>\n      <td>1.0</td>\n      <td>0002</td>\n      <td>01</td>\n      <td>F</td>\n      <td>0</td>\n      <td>S</td>\n      <td>736.0</td>\n    </tr>\n    <tr>\n      <th>2</th>\n      <td>0003_01</td>\n      <td>Europa</td>\n      <td>0.0</td>\n      <td>A/0/S</td>\n      <td>TRAPPIST-1e</td>\n      <td>40-60</td>\n      <td>1.0</td>\n      <td>43.0</td>\n      <td>3576.0</td>\n      <td>0.0</td>\n      <td>6715.0</td>\n      <td>49.0</td>\n      <td>Altark Susent</td>\n      <td>0.0</td>\n      <td>0003</td>\n      <td>01</td>\n      <td>A</td>\n      <td>0</td>\n      <td>S</td>\n      <td>10383.0</td>\n    </tr>\n    <tr>\n      <th>3</th>\n      <td>0003_02</td>\n      <td>Europa</td>\n      <td>0.0</td>\n      <td>A/0/S</td>\n      <td>TRAPPIST-1e</td>\n      <td>18-40</td>\n      <td>0.0</td>\n      <td>0.0</td>\n      <td>1283.0</td>\n      <td>371.0</td>\n      <td>3329.0</td>\n      <td>193.0</td>\n      <td>Solam Susent</td>\n      <td>0.0</td>\n      <td>0003</td>\n      <td>02</td>\n      <td>A</td>\n      <td>0</td>\n      <td>S</td>\n      <td>5176.0</td>\n    </tr>\n    <tr>\n      <th>4</th>\n      <td>0004_01</td>\n      <td>Earth</td>\n      <td>0.0</td>\n      <td>F/1/S</td>\n      <td>TRAPPIST-1e</td>\n      <td>under 18</td>\n      <td>0.0</td>\n      <td>303.0</td>\n      <td>70.0</td>\n      <td>151.0</td>\n      <td>565.0</td>\n      <td>2.0</td>\n      <td>Willy Santantines</td>\n      <td>1.0</td>\n      <td>0004</td>\n      <td>01</td>\n      <td>F</td>\n      <td>1</td>\n      <td>S</td>\n      <td>1091.0</td>\n    </tr>\n  </tbody>\n</table>\n</div>"
     },
     "execution_count": 12,
     "metadata": {},
     "output_type": "execute_result"
    }
   ],
   "source": [
    "age_group = ['under 18','18-40','40-60','60-80','80-100']\n",
    "def choose_group(x):\n",
    "    if x<18:\n",
    "        return age_group[0]\n",
    "    elif 41>x>17:\n",
    "        return age_group[1]\n",
    "    elif 61>x>40:\n",
    "        return age_group[2]\n",
    "    elif 81>x>60:\n",
    "        return age_group[3]\n",
    "    elif 101>x>80:\n",
    "        return age_group[4]\n",
    "    else:\n",
    "        return x\n",
    "data['Age'] = data['Age'].apply(choose_group)\n",
    "\n",
    "data.head()"
   ],
   "metadata": {
    "collapsed": false,
    "ExecuteTime": {
     "end_time": "2024-03-25T19:32:37.971883700Z",
     "start_time": "2024-03-25T19:32:37.936525Z"
    }
   },
   "id": "1f9bcc93ff9351d5",
   "execution_count": 12
  },
  {
   "cell_type": "code",
   "outputs": [
    {
     "data": {
      "text/plain": "HomePlanet\nEarth     0.541922\nEuropa    0.250942\nMars      0.207136\nName: proportion, dtype: float64"
     },
     "execution_count": 13,
     "metadata": {},
     "output_type": "execute_result"
    }
   ],
   "source": [
    "data['HomePlanet'].value_counts(normalize=True)"
   ],
   "metadata": {
    "collapsed": false,
    "ExecuteTime": {
     "end_time": "2024-03-25T19:32:38.562188100Z",
     "start_time": "2024-03-25T19:32:38.543900100Z"
    }
   },
   "id": "924ee32e0fb8251f",
   "execution_count": 13
  },
  {
   "cell_type": "code",
   "outputs": [
    {
     "data": {
      "text/plain": "HomePlanet\nEarth     0.541930\nEuropa    0.252042\nMars      0.206028\nName: proportion, dtype: float64"
     },
     "execution_count": 14,
     "metadata": {},
     "output_type": "execute_result"
    }
   ],
   "source": [
    "data['HomePlanet'] = data['HomePlanet'].fillna(pd.Series(np.random.choice(\n",
    "    ['Earth','Europa','Mars'],\n",
    "    p=[0.54, 0.25, 0.21], size=len(data))))\n",
    "data['HomePlanet'].value_counts(normalize=True)"
   ],
   "metadata": {
    "collapsed": false,
    "ExecuteTime": {
     "end_time": "2024-03-25T19:32:39.005147500Z",
     "start_time": "2024-03-25T19:32:38.971417700Z"
    }
   },
   "id": "e20cd25f6815e7cc",
   "execution_count": 14
  },
  {
   "cell_type": "code",
   "outputs": [
    {
     "data": {
      "text/plain": "CryoSleep\n0.0    0.641694\n1.0    0.358306\nName: proportion, dtype: float64"
     },
     "execution_count": 15,
     "metadata": {},
     "output_type": "execute_result"
    }
   ],
   "source": [
    "data['CryoSleep'].value_counts(normalize=True)"
   ],
   "metadata": {
    "collapsed": false,
    "ExecuteTime": {
     "end_time": "2024-03-25T19:32:39.179552700Z",
     "start_time": "2024-03-25T19:32:39.157761700Z"
    }
   },
   "id": "7acabe38c469ab01",
   "execution_count": 15
  },
  {
   "cell_type": "code",
   "outputs": [
    {
     "data": {
      "text/plain": "CryoSleep\n0.0    0.640515\n1.0    0.359485\nName: proportion, dtype: float64"
     },
     "execution_count": 16,
     "metadata": {},
     "output_type": "execute_result"
    }
   ],
   "source": [
    "data['CryoSleep'] = data['CryoSleep'].fillna(pd.Series(np.random.choice(\n",
    "    [False, True],\n",
    "    p=[0.64, 0.36], size=len(data))))\n",
    "data['CryoSleep'].value_counts(normalize=True)"
   ],
   "metadata": {
    "collapsed": false,
    "ExecuteTime": {
     "end_time": "2024-03-25T19:32:39.517628500Z",
     "start_time": "2024-03-25T19:32:39.498645800Z"
    }
   },
   "id": "6ad16ad0d91d3b0d",
   "execution_count": 16
  },
  {
   "cell_type": "code",
   "outputs": [
    {
     "data": {
      "text/plain": "Destination\nTRAPPIST-1e      0.694983\n55 Cancri e      0.211491\nPSO J318.5-22    0.093526\nName: proportion, dtype: float64"
     },
     "execution_count": 17,
     "metadata": {},
     "output_type": "execute_result"
    }
   ],
   "source": [
    "data['Destination'].value_counts(normalize=True)"
   ],
   "metadata": {
    "collapsed": false,
    "ExecuteTime": {
     "end_time": "2024-03-25T19:32:39.798615700Z",
     "start_time": "2024-03-25T19:32:39.785127400Z"
    }
   },
   "id": "7dc7543233355d60",
   "execution_count": 17
  },
  {
   "cell_type": "code",
   "outputs": [
    {
     "data": {
      "text/plain": "Destination\nTRAPPIST-1e      0.694237\n55 Cancri e      0.212240\nPSO J318.5-22    0.093524\nName: proportion, dtype: float64"
     },
     "execution_count": 18,
     "metadata": {},
     "output_type": "execute_result"
    }
   ],
   "source": [
    "\n",
    "\n",
    "#Fill in missing values of Destination\n",
    "data['Destination'] = data['Destination'].fillna(pd.Series(np.random.choice(\n",
    "    ['TRAPPIST-1e','55 Cancri e','PSO J318.5-22'],\n",
    "    p=[0.69, 0.21, 0.1], size=len(data))))\n",
    "data['Destination'].value_counts(normalize=True)\n",
    "\n"
   ],
   "metadata": {
    "collapsed": false,
    "ExecuteTime": {
     "end_time": "2024-03-25T19:32:40.203847300Z",
     "start_time": "2024-03-25T19:32:40.167976300Z"
    }
   },
   "id": "2be0219c37f06ee",
   "execution_count": 18
  },
  {
   "cell_type": "code",
   "outputs": [
    {
     "data": {
      "text/plain": "VIP\n0.0    0.976561\n1.0    0.023439\nName: proportion, dtype: float64"
     },
     "execution_count": 19,
     "metadata": {},
     "output_type": "execute_result"
    }
   ],
   "source": [
    "data['VIP'].value_counts(normalize=True)"
   ],
   "metadata": {
    "collapsed": false,
    "ExecuteTime": {
     "end_time": "2024-03-25T19:32:40.822598700Z",
     "start_time": "2024-03-25T19:32:40.802082600Z"
    }
   },
   "id": "29137335fa143345",
   "execution_count": 19
  },
  {
   "cell_type": "code",
   "outputs": [
    {
     "data": {
      "text/plain": "VIP\n0.0    0.976188\n1.0    0.023812\nName: proportion, dtype: float64"
     },
     "execution_count": 20,
     "metadata": {},
     "output_type": "execute_result"
    }
   ],
   "source": [
    "data['VIP'] = data['VIP'].fillna(pd.Series(np.random.choice(\n",
    "    [False, True],\n",
    "    p=[0.97, 0.03], size=len(data))))\n",
    "data['VIP'].value_counts(normalize=True)"
   ],
   "metadata": {
    "collapsed": false,
    "ExecuteTime": {
     "end_time": "2024-03-25T19:32:41.482551200Z",
     "start_time": "2024-03-25T19:32:41.472257100Z"
    }
   },
   "id": "ec3191a55be8b287",
   "execution_count": 20
  },
  {
   "cell_type": "code",
   "outputs": [
    {
     "data": {
      "text/plain": "Age\n18-40       0.623145\nunder 18    0.177729\n40-60       0.173818\n60-80       0.025308\nName: proportion, dtype: float64"
     },
     "execution_count": 21,
     "metadata": {},
     "output_type": "execute_result"
    }
   ],
   "source": [
    "data['Age'].value_counts(normalize=True)"
   ],
   "metadata": {
    "collapsed": false,
    "ExecuteTime": {
     "end_time": "2024-03-25T19:32:42.060859900Z",
     "start_time": "2024-03-25T19:32:42.027210Z"
    }
   },
   "id": "e7c78717f9a8ce19",
   "execution_count": 21
  },
  {
   "cell_type": "code",
   "outputs": [
    {
     "data": {
      "text/plain": "Age\n18-40       0.623145\nunder 18    0.177729\n40-60       0.173818\n60-80       0.025308\nName: proportion, dtype: float64"
     },
     "execution_count": 22,
     "metadata": {},
     "output_type": "execute_result"
    }
   ],
   "source": [
    "data['Age'] = data['Age'].fillna(pd.Series(np.random.choice(\n",
    "    ['18-40','under 18','40-60', '60-80',\"80-100\"],\n",
    "    p=[0.62, 0.1777, 0.173, 0.02,0.0093], size=len(data))))\n",
    "data['Age'].value_counts(normalize=True)"
   ],
   "metadata": {
    "collapsed": false,
    "ExecuteTime": {
     "end_time": "2024-03-25T19:32:42.420159Z",
     "start_time": "2024-03-25T19:32:42.411280900Z"
    }
   },
   "id": "16495754796833a9",
   "execution_count": 22
  },
  {
   "cell_type": "code",
   "outputs": [
    {
     "data": {
      "text/plain": "Deck\nF    0.328938\nG    0.301271\nE    0.103132\nB    0.091712\nC    0.087944\nD    0.056275\nA    0.030139\nT    0.000589\nName: proportion, dtype: float64"
     },
     "execution_count": 23,
     "metadata": {},
     "output_type": "execute_result"
    }
   ],
   "source": [
    "data['Deck'].value_counts(normalize=True)"
   ],
   "metadata": {
    "collapsed": false,
    "ExecuteTime": {
     "end_time": "2024-03-25T19:32:42.960666600Z",
     "start_time": "2024-03-25T19:32:42.949892500Z"
    }
   },
   "id": "ccb260f91fe53d75",
   "execution_count": 23
  },
  {
   "cell_type": "code",
   "outputs": [
    {
     "data": {
      "text/plain": "Deck\nF    0.328885\nG    0.301507\nE    0.102956\nB    0.091683\nC    0.087657\nD    0.056252\nA    0.030484\nT    0.000575\nName: proportion, dtype: float64"
     },
     "execution_count": 24,
     "metadata": {},
     "output_type": "execute_result"
    }
   ],
   "source": [
    "data['Deck'] = data['Deck'].fillna(pd.Series(np.random.choice(\n",
    "    ['F','G','E','B','C','D','A','T'],\n",
    "    p=[0.33,0.30,0.10,0.09,0.09,0.06,0.03,0.0], size=len(data))))\n",
    "data['Deck'].value_counts(normalize=True)"
   ],
   "metadata": {
    "collapsed": false,
    "ExecuteTime": {
     "end_time": "2024-03-25T19:32:43.514363200Z",
     "start_time": "2024-03-25T19:32:43.495522300Z"
    }
   },
   "id": "5a6ebdb2efc00199",
   "execution_count": 24
  },
  {
   "cell_type": "code",
   "outputs": [
    {
     "data": {
      "text/plain": "Side\nS    0.504827\nP    0.495173\nName: proportion, dtype: float64"
     },
     "execution_count": 25,
     "metadata": {},
     "output_type": "execute_result"
    }
   ],
   "source": [
    "data['Side'].value_counts(normalize=True)"
   ],
   "metadata": {
    "collapsed": false,
    "ExecuteTime": {
     "end_time": "2024-03-25T19:32:44.080322600Z",
     "start_time": "2024-03-25T19:32:44.069843100Z"
    }
   },
   "id": "a5b3fdedd016f4e3",
   "execution_count": 25
  },
  {
   "cell_type": "code",
   "outputs": [
    {
     "data": {
      "text/plain": "Side\nS    0.504429\nP    0.495571\nName: proportion, dtype: float64"
     },
     "execution_count": 26,
     "metadata": {},
     "output_type": "execute_result"
    }
   ],
   "source": [
    "data['Side'] = data['Side'].fillna(pd.Series(np.random.choice(\n",
    "    ['S', 'P'],\n",
    "    p=[0.50, 0.50], size=len(data))))\n",
    "data['Side'].value_counts(normalize=True)"
   ],
   "metadata": {
    "collapsed": false,
    "ExecuteTime": {
     "end_time": "2024-03-25T19:32:45.425670500Z",
     "start_time": "2024-03-25T19:32:45.417170700Z"
    }
   },
   "id": "3d2f6bb2bdf443ea",
   "execution_count": 26
  },
  {
   "cell_type": "code",
   "outputs": [],
   "source": [
    "data['Total_Bill'].fillna(data['Total_Bill'].mean(), inplace=True)"
   ],
   "metadata": {
    "collapsed": false,
    "ExecuteTime": {
     "end_time": "2024-03-25T19:32:45.965243800Z",
     "start_time": "2024-03-25T19:32:45.945457300Z"
    }
   },
   "id": "3ca63633328933f0",
   "execution_count": 27
  },
  {
   "cell_type": "code",
   "outputs": [
    {
     "name": "stdout",
     "output_type": "stream",
     "text": [
      "<class 'pandas.core.frame.DataFrame'>\n",
      "RangeIndex: 8693 entries, 0 to 8692\n",
      "Data columns (total 20 columns):\n",
      " #   Column        Non-Null Count  Dtype  \n",
      "---  ------        --------------  -----  \n",
      " 0   PassengerId   8693 non-null   object \n",
      " 1   HomePlanet    8693 non-null   object \n",
      " 2   CryoSleep     8693 non-null   object \n",
      " 3   Cabin         8494 non-null   object \n",
      " 4   Destination   8693 non-null   object \n",
      " 5   Age           8693 non-null   object \n",
      " 6   VIP           8693 non-null   object \n",
      " 7   RoomService   8512 non-null   float64\n",
      " 8   FoodCourt     8510 non-null   float64\n",
      " 9   ShoppingMall  8485 non-null   float64\n",
      " 10  Spa           8510 non-null   float64\n",
      " 11  VRDeck        8505 non-null   float64\n",
      " 12  Name          8493 non-null   object \n",
      " 13  Transported   8693 non-null   float64\n",
      " 14  Group         8693 non-null   object \n",
      " 15  People        8693 non-null   object \n",
      " 16  Deck          8693 non-null   object \n",
      " 17  Num           8494 non-null   object \n",
      " 18  Side          8693 non-null   object \n",
      " 19  Total_Bill    8693 non-null   float64\n",
      "dtypes: float64(7), object(13)\n",
      "memory usage: 1.3+ MB\n"
     ]
    }
   ],
   "source": [
    "data.info()"
   ],
   "metadata": {
    "collapsed": false,
    "ExecuteTime": {
     "end_time": "2024-03-25T19:32:46.514480700Z",
     "start_time": "2024-03-25T19:32:46.493657Z"
    }
   },
   "id": "e1a8e4e8288aa82d",
   "execution_count": 28
  },
  {
   "cell_type": "code",
   "outputs": [],
   "source": [
    "data = data.drop(['PassengerId','Cabin', 'RoomService', 'FoodCourt', 'ShoppingMall', 'Spa','VRDeck', 'Name', 'Num', 'Group'], axis=1)"
   ],
   "metadata": {
    "collapsed": false,
    "ExecuteTime": {
     "end_time": "2024-03-25T19:32:47.072997100Z",
     "start_time": "2024-03-25T19:32:47.066186100Z"
    }
   },
   "id": "c4fa7c86a1579779",
   "execution_count": 29
  },
  {
   "cell_type": "code",
   "outputs": [
    {
     "data": {
      "text/plain": "  HomePlanet CryoSleep  Destination       Age  VIP  Transported People Deck  \\\n0     Europa       0.0  TRAPPIST-1e     18-40  0.0          0.0     01    B   \n1      Earth       0.0  TRAPPIST-1e     18-40  0.0          1.0     01    F   \n2     Europa       0.0  TRAPPIST-1e     40-60  1.0          0.0     01    A   \n3     Europa       0.0  TRAPPIST-1e     18-40  0.0          0.0     02    A   \n4      Earth       0.0  TRAPPIST-1e  under 18  0.0          1.0     01    F   \n\n  Side  Total_Bill  \n0    P         0.0  \n1    S       736.0  \n2    S     10383.0  \n3    S      5176.0  \n4    S      1091.0  ",
      "text/html": "<div>\n<style scoped>\n    .dataframe tbody tr th:only-of-type {\n        vertical-align: middle;\n    }\n\n    .dataframe tbody tr th {\n        vertical-align: top;\n    }\n\n    .dataframe thead th {\n        text-align: right;\n    }\n</style>\n<table border=\"1\" class=\"dataframe\">\n  <thead>\n    <tr style=\"text-align: right;\">\n      <th></th>\n      <th>HomePlanet</th>\n      <th>CryoSleep</th>\n      <th>Destination</th>\n      <th>Age</th>\n      <th>VIP</th>\n      <th>Transported</th>\n      <th>People</th>\n      <th>Deck</th>\n      <th>Side</th>\n      <th>Total_Bill</th>\n    </tr>\n  </thead>\n  <tbody>\n    <tr>\n      <th>0</th>\n      <td>Europa</td>\n      <td>0.0</td>\n      <td>TRAPPIST-1e</td>\n      <td>18-40</td>\n      <td>0.0</td>\n      <td>0.0</td>\n      <td>01</td>\n      <td>B</td>\n      <td>P</td>\n      <td>0.0</td>\n    </tr>\n    <tr>\n      <th>1</th>\n      <td>Earth</td>\n      <td>0.0</td>\n      <td>TRAPPIST-1e</td>\n      <td>18-40</td>\n      <td>0.0</td>\n      <td>1.0</td>\n      <td>01</td>\n      <td>F</td>\n      <td>S</td>\n      <td>736.0</td>\n    </tr>\n    <tr>\n      <th>2</th>\n      <td>Europa</td>\n      <td>0.0</td>\n      <td>TRAPPIST-1e</td>\n      <td>40-60</td>\n      <td>1.0</td>\n      <td>0.0</td>\n      <td>01</td>\n      <td>A</td>\n      <td>S</td>\n      <td>10383.0</td>\n    </tr>\n    <tr>\n      <th>3</th>\n      <td>Europa</td>\n      <td>0.0</td>\n      <td>TRAPPIST-1e</td>\n      <td>18-40</td>\n      <td>0.0</td>\n      <td>0.0</td>\n      <td>02</td>\n      <td>A</td>\n      <td>S</td>\n      <td>5176.0</td>\n    </tr>\n    <tr>\n      <th>4</th>\n      <td>Earth</td>\n      <td>0.0</td>\n      <td>TRAPPIST-1e</td>\n      <td>under 18</td>\n      <td>0.0</td>\n      <td>1.0</td>\n      <td>01</td>\n      <td>F</td>\n      <td>S</td>\n      <td>1091.0</td>\n    </tr>\n  </tbody>\n</table>\n</div>"
     },
     "execution_count": 30,
     "metadata": {},
     "output_type": "execute_result"
    }
   ],
   "source": [
    "data.head()"
   ],
   "metadata": {
    "collapsed": false,
    "ExecuteTime": {
     "end_time": "2024-03-25T19:32:47.862471300Z",
     "start_time": "2024-03-25T19:32:47.851902900Z"
    }
   },
   "id": "f84b7ad53b7aecf5",
   "execution_count": 30
  },
  {
   "cell_type": "code",
   "outputs": [],
   "source": [
    "from sklearn.preprocessing import OrdinalEncoder,StandardScaler,MinMaxScaler\n"
   ],
   "metadata": {
    "collapsed": false,
    "ExecuteTime": {
     "end_time": "2024-03-25T19:32:49.120070300Z",
     "start_time": "2024-03-25T19:32:48.903455Z"
    }
   },
   "id": "afbe4002a36e22fb",
   "execution_count": 31
  },
  {
   "cell_type": "code",
   "outputs": [],
   "source": [
    "encoder = OrdinalEncoder()\n",
    "data[['Deck','Age']] = encoder.fit_transform(data[['Deck','Age']])\n"
   ],
   "metadata": {
    "collapsed": false,
    "ExecuteTime": {
     "end_time": "2024-03-25T19:32:50.440295400Z",
     "start_time": "2024-03-25T19:32:50.430372700Z"
    }
   },
   "id": "1cd53e02ed9a7d2f",
   "execution_count": 32
  },
  {
   "cell_type": "code",
   "outputs": [
    {
     "data": {
      "text/plain": "  HomePlanet CryoSleep  Destination  Age  VIP  Transported People  Deck Side  \\\n0     Europa       0.0  TRAPPIST-1e  0.0  0.0          0.0     01   1.0    P   \n1      Earth       0.0  TRAPPIST-1e  0.0  0.0          1.0     01   5.0    S   \n2     Europa       0.0  TRAPPIST-1e  1.0  1.0          0.0     01   0.0    S   \n3     Europa       0.0  TRAPPIST-1e  0.0  0.0          0.0     02   0.0    S   \n4      Earth       0.0  TRAPPIST-1e  3.0  0.0          1.0     01   5.0    S   \n\n   Total_Bill  \n0         0.0  \n1       736.0  \n2     10383.0  \n3      5176.0  \n4      1091.0  ",
      "text/html": "<div>\n<style scoped>\n    .dataframe tbody tr th:only-of-type {\n        vertical-align: middle;\n    }\n\n    .dataframe tbody tr th {\n        vertical-align: top;\n    }\n\n    .dataframe thead th {\n        text-align: right;\n    }\n</style>\n<table border=\"1\" class=\"dataframe\">\n  <thead>\n    <tr style=\"text-align: right;\">\n      <th></th>\n      <th>HomePlanet</th>\n      <th>CryoSleep</th>\n      <th>Destination</th>\n      <th>Age</th>\n      <th>VIP</th>\n      <th>Transported</th>\n      <th>People</th>\n      <th>Deck</th>\n      <th>Side</th>\n      <th>Total_Bill</th>\n    </tr>\n  </thead>\n  <tbody>\n    <tr>\n      <th>0</th>\n      <td>Europa</td>\n      <td>0.0</td>\n      <td>TRAPPIST-1e</td>\n      <td>0.0</td>\n      <td>0.0</td>\n      <td>0.0</td>\n      <td>01</td>\n      <td>1.0</td>\n      <td>P</td>\n      <td>0.0</td>\n    </tr>\n    <tr>\n      <th>1</th>\n      <td>Earth</td>\n      <td>0.0</td>\n      <td>TRAPPIST-1e</td>\n      <td>0.0</td>\n      <td>0.0</td>\n      <td>1.0</td>\n      <td>01</td>\n      <td>5.0</td>\n      <td>S</td>\n      <td>736.0</td>\n    </tr>\n    <tr>\n      <th>2</th>\n      <td>Europa</td>\n      <td>0.0</td>\n      <td>TRAPPIST-1e</td>\n      <td>1.0</td>\n      <td>1.0</td>\n      <td>0.0</td>\n      <td>01</td>\n      <td>0.0</td>\n      <td>S</td>\n      <td>10383.0</td>\n    </tr>\n    <tr>\n      <th>3</th>\n      <td>Europa</td>\n      <td>0.0</td>\n      <td>TRAPPIST-1e</td>\n      <td>0.0</td>\n      <td>0.0</td>\n      <td>0.0</td>\n      <td>02</td>\n      <td>0.0</td>\n      <td>S</td>\n      <td>5176.0</td>\n    </tr>\n    <tr>\n      <th>4</th>\n      <td>Earth</td>\n      <td>0.0</td>\n      <td>TRAPPIST-1e</td>\n      <td>3.0</td>\n      <td>0.0</td>\n      <td>1.0</td>\n      <td>01</td>\n      <td>5.0</td>\n      <td>S</td>\n      <td>1091.0</td>\n    </tr>\n  </tbody>\n</table>\n</div>"
     },
     "execution_count": 33,
     "metadata": {},
     "output_type": "execute_result"
    }
   ],
   "source": [
    "data.head()"
   ],
   "metadata": {
    "collapsed": false,
    "ExecuteTime": {
     "end_time": "2024-03-25T19:32:50.927537400Z",
     "start_time": "2024-03-25T19:32:50.916570100Z"
    }
   },
   "id": "9798968f959b5184",
   "execution_count": 33
  },
  {
   "cell_type": "code",
   "outputs": [
    {
     "data": {
      "text/plain": "  HomePlanet CryoSleep  Destination  Age  VIP  Transported People  Deck Side  \\\n0     Europa       0.0  TRAPPIST-1e  0.0  0.0          0.0     01   1.0    P   \n1      Earth       0.0  TRAPPIST-1e  0.0  0.0          1.0     01   5.0    S   \n2     Europa       0.0  TRAPPIST-1e  1.0  1.0          0.0     01   0.0    S   \n3     Europa       0.0  TRAPPIST-1e  0.0  0.0          0.0     02   0.0    S   \n4      Earth       0.0  TRAPPIST-1e  3.0  0.0          1.0     01   5.0    S   \n\n   Total_Bill  \n0    0.000000  \n1    0.020452  \n2    0.288521  \n3    0.143830  \n4    0.030317  ",
      "text/html": "<div>\n<style scoped>\n    .dataframe tbody tr th:only-of-type {\n        vertical-align: middle;\n    }\n\n    .dataframe tbody tr th {\n        vertical-align: top;\n    }\n\n    .dataframe thead th {\n        text-align: right;\n    }\n</style>\n<table border=\"1\" class=\"dataframe\">\n  <thead>\n    <tr style=\"text-align: right;\">\n      <th></th>\n      <th>HomePlanet</th>\n      <th>CryoSleep</th>\n      <th>Destination</th>\n      <th>Age</th>\n      <th>VIP</th>\n      <th>Transported</th>\n      <th>People</th>\n      <th>Deck</th>\n      <th>Side</th>\n      <th>Total_Bill</th>\n    </tr>\n  </thead>\n  <tbody>\n    <tr>\n      <th>0</th>\n      <td>Europa</td>\n      <td>0.0</td>\n      <td>TRAPPIST-1e</td>\n      <td>0.0</td>\n      <td>0.0</td>\n      <td>0.0</td>\n      <td>01</td>\n      <td>1.0</td>\n      <td>P</td>\n      <td>0.000000</td>\n    </tr>\n    <tr>\n      <th>1</th>\n      <td>Earth</td>\n      <td>0.0</td>\n      <td>TRAPPIST-1e</td>\n      <td>0.0</td>\n      <td>0.0</td>\n      <td>1.0</td>\n      <td>01</td>\n      <td>5.0</td>\n      <td>S</td>\n      <td>0.020452</td>\n    </tr>\n    <tr>\n      <th>2</th>\n      <td>Europa</td>\n      <td>0.0</td>\n      <td>TRAPPIST-1e</td>\n      <td>1.0</td>\n      <td>1.0</td>\n      <td>0.0</td>\n      <td>01</td>\n      <td>0.0</td>\n      <td>S</td>\n      <td>0.288521</td>\n    </tr>\n    <tr>\n      <th>3</th>\n      <td>Europa</td>\n      <td>0.0</td>\n      <td>TRAPPIST-1e</td>\n      <td>0.0</td>\n      <td>0.0</td>\n      <td>0.0</td>\n      <td>02</td>\n      <td>0.0</td>\n      <td>S</td>\n      <td>0.143830</td>\n    </tr>\n    <tr>\n      <th>4</th>\n      <td>Earth</td>\n      <td>0.0</td>\n      <td>TRAPPIST-1e</td>\n      <td>3.0</td>\n      <td>0.0</td>\n      <td>1.0</td>\n      <td>01</td>\n      <td>5.0</td>\n      <td>S</td>\n      <td>0.030317</td>\n    </tr>\n  </tbody>\n</table>\n</div>"
     },
     "execution_count": 34,
     "metadata": {},
     "output_type": "execute_result"
    }
   ],
   "source": [
    "scal = MinMaxScaler()\n",
    "data[['Total_Bill']] = scal.fit_transform(data[['Total_Bill']])\n",
    "data.head()"
   ],
   "metadata": {
    "collapsed": false,
    "ExecuteTime": {
     "end_time": "2024-03-25T19:32:51.701792400Z",
     "start_time": "2024-03-25T19:32:51.697444500Z"
    }
   },
   "id": "d2daa45636216e8a",
   "execution_count": 34
  },
  {
   "cell_type": "code",
   "outputs": [
    {
     "data": {
      "text/plain": "Side\nS    4385\nP    4308\nName: count, dtype: int64"
     },
     "execution_count": 35,
     "metadata": {},
     "output_type": "execute_result"
    }
   ],
   "source": [
    "data['Side'].value_counts()"
   ],
   "metadata": {
    "collapsed": false,
    "ExecuteTime": {
     "end_time": "2024-03-25T19:32:52.325587300Z",
     "start_time": "2024-03-25T19:32:52.318337600Z"
    }
   },
   "id": "a21c7ba0e63a51ec",
   "execution_count": 35
  },
  {
   "cell_type": "code",
   "outputs": [
    {
     "data": {
      "text/plain": "Destination\nTRAPPIST-1e      6035\n55 Cancri e      1845\nPSO J318.5-22     813\nName: count, dtype: int64"
     },
     "execution_count": 36,
     "metadata": {},
     "output_type": "execute_result"
    }
   ],
   "source": [
    "data['Destination'].value_counts()"
   ],
   "metadata": {
    "collapsed": false,
    "ExecuteTime": {
     "end_time": "2024-03-25T19:32:53.115338400Z",
     "start_time": "2024-03-25T19:32:53.103666Z"
    }
   },
   "id": "b605db9a586f8c9f",
   "execution_count": 36
  },
  {
   "cell_type": "code",
   "outputs": [
    {
     "data": {
      "text/plain": "HomePlanet\nEarth     4711\nEuropa    2191\nMars      1791\nName: count, dtype: int64"
     },
     "execution_count": 37,
     "metadata": {},
     "output_type": "execute_result"
    }
   ],
   "source": [
    "data['HomePlanet'].value_counts()"
   ],
   "metadata": {
    "collapsed": false,
    "ExecuteTime": {
     "end_time": "2024-03-25T19:32:53.527633600Z",
     "start_time": "2024-03-25T19:32:53.520932100Z"
    }
   },
   "id": "8f738c0df4ca59c8",
   "execution_count": 37
  },
  {
   "cell_type": "code",
   "outputs": [
    {
     "data": {
      "text/plain": "  HomePlanet CryoSleep  Destination  Age  VIP  Transported People  Deck Side  \\\n0     Europa       0.0  TRAPPIST-1e  0.0  0.0          0.0     01   1.0    P   \n1      Earth       0.0  TRAPPIST-1e  0.0  0.0          1.0     01   5.0    S   \n2     Europa       0.0  TRAPPIST-1e  1.0  1.0          0.0     01   0.0    S   \n3     Europa       0.0  TRAPPIST-1e  0.0  0.0          0.0     02   0.0    S   \n4      Earth       0.0  TRAPPIST-1e  3.0  0.0          1.0     01   5.0    S   \n\n   Total_Bill  HomePlanet_Earth  HomePlanet_Europa  HomePlanet_Mars  \n0    0.000000               0.0                1.0              0.0  \n1    0.020452               1.0                0.0              0.0  \n2    0.288521               0.0                1.0              0.0  \n3    0.143830               0.0                1.0              0.0  \n4    0.030317               1.0                0.0              0.0  ",
      "text/html": "<div>\n<style scoped>\n    .dataframe tbody tr th:only-of-type {\n        vertical-align: middle;\n    }\n\n    .dataframe tbody tr th {\n        vertical-align: top;\n    }\n\n    .dataframe thead th {\n        text-align: right;\n    }\n</style>\n<table border=\"1\" class=\"dataframe\">\n  <thead>\n    <tr style=\"text-align: right;\">\n      <th></th>\n      <th>HomePlanet</th>\n      <th>CryoSleep</th>\n      <th>Destination</th>\n      <th>Age</th>\n      <th>VIP</th>\n      <th>Transported</th>\n      <th>People</th>\n      <th>Deck</th>\n      <th>Side</th>\n      <th>Total_Bill</th>\n      <th>HomePlanet_Earth</th>\n      <th>HomePlanet_Europa</th>\n      <th>HomePlanet_Mars</th>\n    </tr>\n  </thead>\n  <tbody>\n    <tr>\n      <th>0</th>\n      <td>Europa</td>\n      <td>0.0</td>\n      <td>TRAPPIST-1e</td>\n      <td>0.0</td>\n      <td>0.0</td>\n      <td>0.0</td>\n      <td>01</td>\n      <td>1.0</td>\n      <td>P</td>\n      <td>0.000000</td>\n      <td>0.0</td>\n      <td>1.0</td>\n      <td>0.0</td>\n    </tr>\n    <tr>\n      <th>1</th>\n      <td>Earth</td>\n      <td>0.0</td>\n      <td>TRAPPIST-1e</td>\n      <td>0.0</td>\n      <td>0.0</td>\n      <td>1.0</td>\n      <td>01</td>\n      <td>5.0</td>\n      <td>S</td>\n      <td>0.020452</td>\n      <td>1.0</td>\n      <td>0.0</td>\n      <td>0.0</td>\n    </tr>\n    <tr>\n      <th>2</th>\n      <td>Europa</td>\n      <td>0.0</td>\n      <td>TRAPPIST-1e</td>\n      <td>1.0</td>\n      <td>1.0</td>\n      <td>0.0</td>\n      <td>01</td>\n      <td>0.0</td>\n      <td>S</td>\n      <td>0.288521</td>\n      <td>0.0</td>\n      <td>1.0</td>\n      <td>0.0</td>\n    </tr>\n    <tr>\n      <th>3</th>\n      <td>Europa</td>\n      <td>0.0</td>\n      <td>TRAPPIST-1e</td>\n      <td>0.0</td>\n      <td>0.0</td>\n      <td>0.0</td>\n      <td>02</td>\n      <td>0.0</td>\n      <td>S</td>\n      <td>0.143830</td>\n      <td>0.0</td>\n      <td>1.0</td>\n      <td>0.0</td>\n    </tr>\n    <tr>\n      <th>4</th>\n      <td>Earth</td>\n      <td>0.0</td>\n      <td>TRAPPIST-1e</td>\n      <td>3.0</td>\n      <td>0.0</td>\n      <td>1.0</td>\n      <td>01</td>\n      <td>5.0</td>\n      <td>S</td>\n      <td>0.030317</td>\n      <td>1.0</td>\n      <td>0.0</td>\n      <td>0.0</td>\n    </tr>\n  </tbody>\n</table>\n</div>"
     },
     "execution_count": 38,
     "metadata": {},
     "output_type": "execute_result"
    }
   ],
   "source": [
    "\n",
    "from sklearn.preprocessing import OneHotEncoder\n",
    "arr = ['HomePlanet_Earth','HomePlanet_Europa','HomePlanet_Mars']\n",
    "coder = OneHotEncoder()\n",
    "data[arr] = coder.fit_transform(data[['HomePlanet']]).toarray()\n",
    "data.head()"
   ],
   "metadata": {
    "collapsed": false,
    "ExecuteTime": {
     "end_time": "2024-03-25T19:32:55.824362900Z",
     "start_time": "2024-03-25T19:32:55.793503900Z"
    }
   },
   "id": "621a20273b689c2b",
   "execution_count": 38
  },
  {
   "cell_type": "code",
   "outputs": [],
   "source": [
    "arr1 = ['TRAPPIST-1e','55 Cancri e','PSO J318.5-22']\n",
    "data[arr1] = coder.fit_transform(data[['Destination']]).toarray()"
   ],
   "metadata": {
    "collapsed": false,
    "ExecuteTime": {
     "end_time": "2024-03-25T19:32:57.099857500Z",
     "start_time": "2024-03-25T19:32:57.090511Z"
    }
   },
   "id": "768265652e2c9e03",
   "execution_count": 39
  },
  {
   "cell_type": "code",
   "outputs": [],
   "source": [
    "arr2 = ['S','P']\n",
    "data[arr2] = coder.fit_transform(data[['Side']]).toarray()"
   ],
   "metadata": {
    "collapsed": false,
    "ExecuteTime": {
     "end_time": "2024-03-25T19:32:58.337831Z",
     "start_time": "2024-03-25T19:32:58.326563600Z"
    }
   },
   "id": "ff583fe775e39ad7",
   "execution_count": 40
  },
  {
   "cell_type": "code",
   "outputs": [
    {
     "data": {
      "text/plain": "  HomePlanet CryoSleep  Destination  Age  VIP  Transported People  Deck Side  \\\n0     Europa       0.0  TRAPPIST-1e  0.0  0.0          0.0     01   1.0    P   \n1      Earth       0.0  TRAPPIST-1e  0.0  0.0          1.0     01   5.0    S   \n2     Europa       0.0  TRAPPIST-1e  1.0  1.0          0.0     01   0.0    S   \n3     Europa       0.0  TRAPPIST-1e  0.0  0.0          0.0     02   0.0    S   \n4      Earth       0.0  TRAPPIST-1e  3.0  0.0          1.0     01   5.0    S   \n\n   Total_Bill  HomePlanet_Earth  HomePlanet_Europa  HomePlanet_Mars  \\\n0    0.000000               0.0                1.0              0.0   \n1    0.020452               1.0                0.0              0.0   \n2    0.288521               0.0                1.0              0.0   \n3    0.143830               0.0                1.0              0.0   \n4    0.030317               1.0                0.0              0.0   \n\n   TRAPPIST-1e  55 Cancri e  PSO J318.5-22    S    P  \n0          0.0          0.0            1.0  1.0  0.0  \n1          0.0          0.0            1.0  0.0  1.0  \n2          0.0          0.0            1.0  0.0  1.0  \n3          0.0          0.0            1.0  0.0  1.0  \n4          0.0          0.0            1.0  0.0  1.0  ",
      "text/html": "<div>\n<style scoped>\n    .dataframe tbody tr th:only-of-type {\n        vertical-align: middle;\n    }\n\n    .dataframe tbody tr th {\n        vertical-align: top;\n    }\n\n    .dataframe thead th {\n        text-align: right;\n    }\n</style>\n<table border=\"1\" class=\"dataframe\">\n  <thead>\n    <tr style=\"text-align: right;\">\n      <th></th>\n      <th>HomePlanet</th>\n      <th>CryoSleep</th>\n      <th>Destination</th>\n      <th>Age</th>\n      <th>VIP</th>\n      <th>Transported</th>\n      <th>People</th>\n      <th>Deck</th>\n      <th>Side</th>\n      <th>Total_Bill</th>\n      <th>HomePlanet_Earth</th>\n      <th>HomePlanet_Europa</th>\n      <th>HomePlanet_Mars</th>\n      <th>TRAPPIST-1e</th>\n      <th>55 Cancri e</th>\n      <th>PSO J318.5-22</th>\n      <th>S</th>\n      <th>P</th>\n    </tr>\n  </thead>\n  <tbody>\n    <tr>\n      <th>0</th>\n      <td>Europa</td>\n      <td>0.0</td>\n      <td>TRAPPIST-1e</td>\n      <td>0.0</td>\n      <td>0.0</td>\n      <td>0.0</td>\n      <td>01</td>\n      <td>1.0</td>\n      <td>P</td>\n      <td>0.000000</td>\n      <td>0.0</td>\n      <td>1.0</td>\n      <td>0.0</td>\n      <td>0.0</td>\n      <td>0.0</td>\n      <td>1.0</td>\n      <td>1.0</td>\n      <td>0.0</td>\n    </tr>\n    <tr>\n      <th>1</th>\n      <td>Earth</td>\n      <td>0.0</td>\n      <td>TRAPPIST-1e</td>\n      <td>0.0</td>\n      <td>0.0</td>\n      <td>1.0</td>\n      <td>01</td>\n      <td>5.0</td>\n      <td>S</td>\n      <td>0.020452</td>\n      <td>1.0</td>\n      <td>0.0</td>\n      <td>0.0</td>\n      <td>0.0</td>\n      <td>0.0</td>\n      <td>1.0</td>\n      <td>0.0</td>\n      <td>1.0</td>\n    </tr>\n    <tr>\n      <th>2</th>\n      <td>Europa</td>\n      <td>0.0</td>\n      <td>TRAPPIST-1e</td>\n      <td>1.0</td>\n      <td>1.0</td>\n      <td>0.0</td>\n      <td>01</td>\n      <td>0.0</td>\n      <td>S</td>\n      <td>0.288521</td>\n      <td>0.0</td>\n      <td>1.0</td>\n      <td>0.0</td>\n      <td>0.0</td>\n      <td>0.0</td>\n      <td>1.0</td>\n      <td>0.0</td>\n      <td>1.0</td>\n    </tr>\n    <tr>\n      <th>3</th>\n      <td>Europa</td>\n      <td>0.0</td>\n      <td>TRAPPIST-1e</td>\n      <td>0.0</td>\n      <td>0.0</td>\n      <td>0.0</td>\n      <td>02</td>\n      <td>0.0</td>\n      <td>S</td>\n      <td>0.143830</td>\n      <td>0.0</td>\n      <td>1.0</td>\n      <td>0.0</td>\n      <td>0.0</td>\n      <td>0.0</td>\n      <td>1.0</td>\n      <td>0.0</td>\n      <td>1.0</td>\n    </tr>\n    <tr>\n      <th>4</th>\n      <td>Earth</td>\n      <td>0.0</td>\n      <td>TRAPPIST-1e</td>\n      <td>3.0</td>\n      <td>0.0</td>\n      <td>1.0</td>\n      <td>01</td>\n      <td>5.0</td>\n      <td>S</td>\n      <td>0.030317</td>\n      <td>1.0</td>\n      <td>0.0</td>\n      <td>0.0</td>\n      <td>0.0</td>\n      <td>0.0</td>\n      <td>1.0</td>\n      <td>0.0</td>\n      <td>1.0</td>\n    </tr>\n  </tbody>\n</table>\n</div>"
     },
     "execution_count": 41,
     "metadata": {},
     "output_type": "execute_result"
    }
   ],
   "source": [
    "data.head()"
   ],
   "metadata": {
    "collapsed": false,
    "ExecuteTime": {
     "end_time": "2024-03-25T19:32:59.063586900Z",
     "start_time": "2024-03-25T19:32:59.049906400Z"
    }
   },
   "id": "1b68beca7ee93f8b",
   "execution_count": 41
  },
  {
   "cell_type": "code",
   "outputs": [],
   "source": [
    "data.drop(['HomePlanet','Destination','Side'], axis=1, inplace=True)"
   ],
   "metadata": {
    "collapsed": false,
    "ExecuteTime": {
     "end_time": "2024-03-25T19:32:59.804456100Z",
     "start_time": "2024-03-25T19:32:59.794511200Z"
    }
   },
   "id": "ee26ad866b5b4bb2",
   "execution_count": 42
  },
  {
   "cell_type": "code",
   "outputs": [
    {
     "data": {
      "text/plain": "  CryoSleep  Age  VIP  Transported People  Deck  Total_Bill  HomePlanet_Earth  \\\n0       0.0  0.0  0.0          0.0     01   1.0    0.000000               0.0   \n1       0.0  0.0  0.0          1.0     01   5.0    0.020452               1.0   \n2       0.0  1.0  1.0          0.0     01   0.0    0.288521               0.0   \n3       0.0  0.0  0.0          0.0     02   0.0    0.143830               0.0   \n4       0.0  3.0  0.0          1.0     01   5.0    0.030317               1.0   \n\n   HomePlanet_Europa  HomePlanet_Mars  TRAPPIST-1e  55 Cancri e  \\\n0                1.0              0.0          0.0          0.0   \n1                0.0              0.0          0.0          0.0   \n2                1.0              0.0          0.0          0.0   \n3                1.0              0.0          0.0          0.0   \n4                0.0              0.0          0.0          0.0   \n\n   PSO J318.5-22    S    P  \n0            1.0  1.0  0.0  \n1            1.0  0.0  1.0  \n2            1.0  0.0  1.0  \n3            1.0  0.0  1.0  \n4            1.0  0.0  1.0  ",
      "text/html": "<div>\n<style scoped>\n    .dataframe tbody tr th:only-of-type {\n        vertical-align: middle;\n    }\n\n    .dataframe tbody tr th {\n        vertical-align: top;\n    }\n\n    .dataframe thead th {\n        text-align: right;\n    }\n</style>\n<table border=\"1\" class=\"dataframe\">\n  <thead>\n    <tr style=\"text-align: right;\">\n      <th></th>\n      <th>CryoSleep</th>\n      <th>Age</th>\n      <th>VIP</th>\n      <th>Transported</th>\n      <th>People</th>\n      <th>Deck</th>\n      <th>Total_Bill</th>\n      <th>HomePlanet_Earth</th>\n      <th>HomePlanet_Europa</th>\n      <th>HomePlanet_Mars</th>\n      <th>TRAPPIST-1e</th>\n      <th>55 Cancri e</th>\n      <th>PSO J318.5-22</th>\n      <th>S</th>\n      <th>P</th>\n    </tr>\n  </thead>\n  <tbody>\n    <tr>\n      <th>0</th>\n      <td>0.0</td>\n      <td>0.0</td>\n      <td>0.0</td>\n      <td>0.0</td>\n      <td>01</td>\n      <td>1.0</td>\n      <td>0.000000</td>\n      <td>0.0</td>\n      <td>1.0</td>\n      <td>0.0</td>\n      <td>0.0</td>\n      <td>0.0</td>\n      <td>1.0</td>\n      <td>1.0</td>\n      <td>0.0</td>\n    </tr>\n    <tr>\n      <th>1</th>\n      <td>0.0</td>\n      <td>0.0</td>\n      <td>0.0</td>\n      <td>1.0</td>\n      <td>01</td>\n      <td>5.0</td>\n      <td>0.020452</td>\n      <td>1.0</td>\n      <td>0.0</td>\n      <td>0.0</td>\n      <td>0.0</td>\n      <td>0.0</td>\n      <td>1.0</td>\n      <td>0.0</td>\n      <td>1.0</td>\n    </tr>\n    <tr>\n      <th>2</th>\n      <td>0.0</td>\n      <td>1.0</td>\n      <td>1.0</td>\n      <td>0.0</td>\n      <td>01</td>\n      <td>0.0</td>\n      <td>0.288521</td>\n      <td>0.0</td>\n      <td>1.0</td>\n      <td>0.0</td>\n      <td>0.0</td>\n      <td>0.0</td>\n      <td>1.0</td>\n      <td>0.0</td>\n      <td>1.0</td>\n    </tr>\n    <tr>\n      <th>3</th>\n      <td>0.0</td>\n      <td>0.0</td>\n      <td>0.0</td>\n      <td>0.0</td>\n      <td>02</td>\n      <td>0.0</td>\n      <td>0.143830</td>\n      <td>0.0</td>\n      <td>1.0</td>\n      <td>0.0</td>\n      <td>0.0</td>\n      <td>0.0</td>\n      <td>1.0</td>\n      <td>0.0</td>\n      <td>1.0</td>\n    </tr>\n    <tr>\n      <th>4</th>\n      <td>0.0</td>\n      <td>3.0</td>\n      <td>0.0</td>\n      <td>1.0</td>\n      <td>01</td>\n      <td>5.0</td>\n      <td>0.030317</td>\n      <td>1.0</td>\n      <td>0.0</td>\n      <td>0.0</td>\n      <td>0.0</td>\n      <td>0.0</td>\n      <td>1.0</td>\n      <td>0.0</td>\n      <td>1.0</td>\n    </tr>\n  </tbody>\n</table>\n</div>"
     },
     "execution_count": 43,
     "metadata": {},
     "output_type": "execute_result"
    }
   ],
   "source": [
    "data.head()"
   ],
   "metadata": {
    "collapsed": false,
    "ExecuteTime": {
     "end_time": "2024-03-25T19:33:00.254639400Z",
     "start_time": "2024-03-25T19:33:00.249407800Z"
    }
   },
   "id": "c1bd1c18e4ef2ec",
   "execution_count": 43
  },
  {
   "cell_type": "code",
   "outputs": [],
   "source": [
    "Y = data['Transported']\n",
    "X = data.drop(['Transported'], axis=1)"
   ],
   "metadata": {
    "collapsed": false,
    "ExecuteTime": {
     "end_time": "2024-03-25T19:33:01.378672700Z",
     "start_time": "2024-03-25T19:33:01.371801100Z"
    }
   },
   "id": "54cdce757692526a",
   "execution_count": 44
  },
  {
   "cell_type": "code",
   "outputs": [],
   "source": [
    "from sklearn.linear_model import LinearRegression\n",
    "from sklearn.model_selection import train_test_split\n",
    "X_train, X_test, Y_train, Y_test = train_test_split(X, Y, test_size=0.33, random_state=42)"
   ],
   "metadata": {
    "collapsed": false,
    "ExecuteTime": {
     "end_time": "2024-03-25T19:33:03.211483400Z",
     "start_time": "2024-03-25T19:33:02.614652Z"
    }
   },
   "id": "bb2bc31f10162f3d",
   "execution_count": 45
  },
  {
   "cell_type": "code",
   "outputs": [
    {
     "ename": "AttributeError",
     "evalue": "'LinearRegression' object has no attribute 'summary'",
     "output_type": "error",
     "traceback": [
      "\u001B[1;31m---------------------------------------------------------------------------\u001B[0m",
      "\u001B[1;31mAttributeError\u001B[0m                            Traceback (most recent call last)",
      "Cell \u001B[1;32mIn[164], line 9\u001B[0m\n\u001B[0;32m      7\u001B[0m y_pred \u001B[38;5;241m=\u001B[39m np\u001B[38;5;241m.\u001B[39mwhere(y_pred \u001B[38;5;241m>\u001B[39m \u001B[38;5;241m0.57\u001B[39m, \u001B[38;5;241m1\u001B[39m, \u001B[38;5;241m0\u001B[39m)\n\u001B[0;32m      8\u001B[0m accuracy_score(Y_test, y_pred)\n\u001B[1;32m----> 9\u001B[0m model\u001B[38;5;241m.\u001B[39msummary()\n",
      "\u001B[1;31mAttributeError\u001B[0m: 'LinearRegression' object has no attribute 'summary'"
     ]
    }
   ],
   "source": [
    "from sklearn.metrics import accuracy_score\n",
    "\n",
    "reg = LinearRegression()\n",
    "model = reg.fit(X_train,Y_train)\n",
    "\n",
    "y_pred = model.predict(X_test)\n",
    "y_pred = np.where(y_pred > 0.57, 1, 0)\n",
    "accuracy_score(Y_test, y_pred)\n"
   ],
   "metadata": {
    "collapsed": false,
    "ExecuteTime": {
     "end_time": "2024-03-23T19:38:54.323158300Z",
     "start_time": "2024-03-23T19:38:54.294054500Z"
    }
   },
   "id": "49bf155c31f17402",
   "execution_count": 164
  },
  {
   "cell_type": "code",
   "outputs": [
    {
     "name": "stdout",
     "output_type": "stream",
     "text": [
      "0.7239456256535378\n"
     ]
    }
   ],
   "source": [
    "from sklearn.neighbors import KNeighborsClassifier\n",
    "from sklearn.model_selection import cross_val_score\n",
    "from sklearn.model_selection import GridSearchCV\n",
    "scaler = MinMaxScaler()\n",
    "x_scaled = scaler.fit_transform(X_train)\n",
    "x_test_scaled = scaler.transform(X_test)\n",
    "knn = KNeighborsClassifier(n_neighbors=22)\n",
    "# Print the accuracy on the test set\n",
    "# param_grid = {'n_neighbors': range(1,99)}\n",
    "# grid_search = GridSearchCV(knn, param_grid, cv=4).fit(x_scaled, Y_train)\n",
    "knn.fit(x_scaled,Y_train)\n",
    "print(knn.score(x_test_scaled,Y_test))\n",
    "# print(grid_search.)"
   ],
   "metadata": {
    "collapsed": false,
    "ExecuteTime": {
     "end_time": "2024-03-23T20:49:29.204307500Z",
     "start_time": "2024-03-23T20:49:29.001954700Z"
    }
   },
   "id": "b5a0f1263aca7384",
   "execution_count": 177
  },
  {
   "cell_type": "code",
   "outputs": [
    {
     "name": "stdout",
     "output_type": "stream",
     "text": [
      "KNeighborsClassifier(n_neighbors=9) – recall: 0.6750696257362304\n",
      "LogisticRegression(C=1.3) – recall: 0.653259763592281\n",
      "DecisionTreeClassifier(max_depth=4, min_samples_leaf=7) – recall: 0.6911024414068178\n",
      "RandomForestClassifier(max_depth=20, n_estimators=60) – recall: 0.6887162700373857\n"
     ]
    }
   ],
   "source": [
    "import pandas as pd\n",
    "from sklearn.preprocessing import StandardScaler\n",
    "from sklearn.ensemble import RandomForestClassifier\n",
    "from sklearn.tree import DecisionTreeClassifier\n",
    "from sklearn.linear_model import LogisticRegression\n",
    "from sklearn.neighbors import KNeighborsClassifier\n",
    "from sklearn.model_selection import GridSearchCV\n",
    "\n",
    "\n",
    "#Scale the X since it needed for most models\n",
    "\n",
    "model_grids = [] # We will keep trained models here to print the result easier\n",
    "# k-NN\n",
    "knn = KNeighborsClassifier()\n",
    "knn_grid = GridSearchCV(knn,\n",
    "                        {'n_neighbors': [i for  i in range(1,30)]},\n",
    "                        scoring='recall').fit(x_scaled, Y_train)\n",
    "model_grids.append(knn_grid)\n",
    "# Logistic Regression\n",
    "lr = LogisticRegression()\n",
    "lr_grid = GridSearchCV(lr,\n",
    "                       {'C': [i/10 for i in range(1,100,1)]},\n",
    "                       scoring='recall').fit(x_scaled, Y_train)\n",
    "model_grids.append(lr_grid)\n",
    "# Decision Tree\n",
    "dt = DecisionTreeClassifier()\n",
    "dt_grid = GridSearchCV(dt,\n",
    "                       {'max_depth': [i for i in range(1,21)], 'min_samples_leaf': [i for i in range(1,21)]},\n",
    "                       scoring='recall').fit(x_scaled, Y_train)\n",
    "model_grids.append(dt_grid)\n",
    "# Random Forest\n",
    "rf = RandomForestClassifier()\n",
    "rf_grid = GridSearchCV(rf,\n",
    "                       {'max_depth': [i for i in range(1,21)], 'n_estimators': [i for i in range(10,200,10)]},\n",
    "                       scoring='recall').fit(x_scaled, Y_train)\n",
    "model_grids.append(rf_grid)\n",
    "\n",
    "for model in model_grids:\n",
    "    print(model.best_estimator_, '– recall:', model.best_score_)"
   ],
   "metadata": {
    "collapsed": false,
    "ExecuteTime": {
     "end_time": "2024-03-23T21:08:13.428569500Z",
     "start_time": "2024-03-23T20:57:55.659777800Z"
    }
   },
   "id": "6d0716291ce535d3",
   "execution_count": 179
  },
  {
   "cell_type": "code",
   "outputs": [
    {
     "name": "stdout",
     "output_type": "stream",
     "text": [
      "0.7389334262809342\n"
     ]
    }
   ],
   "source": [
    "dt1 = DecisionTreeClassifier(max_depth=7, min_samples_leaf=9)\n",
    "dt1.fit(x_scaled, Y_train)\n",
    "print(dt1.score(x_test_scaled,Y_test))"
   ],
   "metadata": {
    "collapsed": false,
    "ExecuteTime": {
     "end_time": "2024-03-23T21:13:39.281854100Z",
     "start_time": "2024-03-23T21:13:39.269331700Z"
    }
   },
   "id": "bcb7f78cfe75dd2c",
   "execution_count": 199
  },
  {
   "cell_type": "code",
   "outputs": [
    {
     "name": "stdout",
     "output_type": "stream",
     "text": [
      "Fitting 3 folds for each of 50 candidates, totalling 150 fits\n"
     ]
    }
   ],
   "source": [
    "param_grid = {\n",
    "    'max_depth': [1,5,8,10,12],\n",
    "    'min_samples_leaf': [1,10,20,50,100],\n",
    "    'criterion': [\"gini\", \"entropy\"]\n",
    "}\n",
    "tuning = GridSearchCV(DecisionTreeClassifier(), param_grid = param_grid, cv = 3, verbose=1, n_jobs=-1)\n",
    "best_tuning = tuning.fit(x_scaled, Y_train)"
   ],
   "metadata": {
    "collapsed": false,
    "ExecuteTime": {
     "end_time": "2024-03-23T21:15:30.526837600Z",
     "start_time": "2024-03-23T21:15:27.971129800Z"
    }
   },
   "id": "843c1ae6504d1d96",
   "execution_count": 201
  },
  {
   "cell_type": "code",
   "outputs": [],
   "source": [
    "TR = best_tuning.best_estimator_"
   ],
   "metadata": {
    "collapsed": false,
    "ExecuteTime": {
     "end_time": "2024-03-23T21:15:32.310289400Z",
     "start_time": "2024-03-23T21:15:32.292125200Z"
    }
   },
   "id": "bb34ce9e04380ada",
   "execution_count": 202
  },
  {
   "cell_type": "code",
   "outputs": [],
   "source": [
    "\n",
    "\n",
    "TR.fit(x_scaled, Y_train)\n",
    "y_pred_TR = TR.predict(x_test_scaled)\n",
    "\n"
   ],
   "metadata": {
    "collapsed": false,
    "ExecuteTime": {
     "end_time": "2024-03-23T21:16:19.698124200Z",
     "start_time": "2024-03-23T21:16:19.680453300Z"
    }
   },
   "id": "9adba73f0baf5db0",
   "execution_count": 204
  },
  {
   "cell_type": "code",
   "outputs": [
    {
     "data": {
      "text/plain": "0.7284768211920529"
     },
     "execution_count": 205,
     "metadata": {},
     "output_type": "execute_result"
    }
   ],
   "source": [
    "TR_accuracy = accuracy_score(Y_test, y_pred_TR)\n",
    "TR_accuracy"
   ],
   "metadata": {
    "collapsed": false,
    "ExecuteTime": {
     "end_time": "2024-03-23T21:16:26.587231400Z",
     "start_time": "2024-03-23T21:16:26.569415800Z"
    }
   },
   "id": "65a69ef0a450ed87",
   "execution_count": 205
  },
  {
   "cell_type": "code",
   "outputs": [
    {
     "name": "stdout",
     "output_type": "stream",
     "text": [
      "Fitting 3 folds for each of 135 candidates, totalling 405 fits\n"
     ]
    }
   ],
   "source": [
    "rf = RandomForestClassifier()\n",
    "rf_grid  = {'max_depth': [i for i in range(1,10)], 'n_estimators': [i for i in range(10,151,10)]}\n",
    "                       \n",
    "tun = GridSearchCV(rf,rf_grid, cv = 3, verbose=1)\n",
    "best = tun.fit(x_scaled, Y_train)"
   ],
   "metadata": {
    "collapsed": false,
    "ExecuteTime": {
     "end_time": "2024-03-23T21:22:50.690069500Z",
     "start_time": "2024-03-23T21:21:56.610252200Z"
    }
   },
   "id": "e9a042aef58701ce",
   "execution_count": 210
  },
  {
   "cell_type": "code",
   "outputs": [],
   "source": [
    "tf = best.best_estimator_\n",
    "tf.fit(x_scaled, Y_train)\n",
    "y_pred_tf = tf.predict(x_test_scaled)"
   ],
   "metadata": {
    "collapsed": false,
    "ExecuteTime": {
     "end_time": "2024-03-23T21:22:53.738406700Z",
     "start_time": "2024-03-23T21:22:53.551220500Z"
    }
   },
   "id": "496d4ebcb3a8b8ed",
   "execution_count": 211
  },
  {
   "cell_type": "code",
   "outputs": [
    {
     "data": {
      "text/plain": "0.734402230742419"
     },
     "execution_count": 212,
     "metadata": {},
     "output_type": "execute_result"
    }
   ],
   "source": [
    "tf_accuracy = accuracy_score(Y_test, y_pred_tf)\n",
    "tf_accuracy"
   ],
   "metadata": {
    "collapsed": false,
    "ExecuteTime": {
     "end_time": "2024-03-23T21:22:55.009009300Z",
     "start_time": "2024-03-23T21:22:55.004430200Z"
    }
   },
   "id": "192ba6b35af58595",
   "execution_count": 212
  },
  {
   "cell_type": "code",
   "outputs": [],
   "source": [
    "t = pd.read_csv('test.csv')\n",
    "test = pd.read_csv('test.csv')"
   ],
   "metadata": {
    "collapsed": false,
    "ExecuteTime": {
     "end_time": "2024-03-23T21:30:59.731772900Z",
     "start_time": "2024-03-23T21:30:59.709067400Z"
    }
   },
   "id": "1eaae6fe5d5a4b4f",
   "execution_count": 213
  },
  {
   "cell_type": "code",
   "outputs": [],
   "source": [
    "Group = test['PassengerId'].str.split('_').str.get(0)\n",
    "# Group = Group.g\n",
    "People = test['PassengerId'].str.split('_').str.get(1)\n",
    "\n",
    "test['Group'], test['People'] = Group, People\n",
    "Deck = test['Cabin'].str.split('/').str.get(0)\n",
    "Num = test['Cabin'].str.split('/').str.get(1)\n",
    "Side = test['Cabin'].str.split('/').str.get(2)\n",
    "test['Deck'], test['Num'], test['Side'] = Deck, Num, Side\n",
    "Total_Bill = test['FoodCourt'] + test['ShoppingMall'] + test['RoomService'] + test['Spa'] + test['VRDeck']\n",
    "test['Total_Bill'] = Total_Bill\n",
    "\n",
    "test['VIP'] = test['VIP'].astype(float)\n",
    "test['CryoSleep'] = test['CryoSleep'].astype(float)\n",
    "\n",
    "test['Age'] = test['Age'].fillna(test['Age'].mean())\n",
    "\n",
    "age_group = ['under 18','18-40','40-60','60-80','80-100']\n",
    "def choose_group(x):\n",
    "    if x<18:\n",
    "        return age_group[0]\n",
    "    elif 41>x>17:\n",
    "        return age_group[1]\n",
    "    elif 61>x>40:\n",
    "        return age_group[2]\n",
    "    elif 81>x>60:\n",
    "        return age_group[3]\n",
    "    elif 101>x>80:\n",
    "        return age_group[4]\n",
    "    else:\n",
    "        return x\n",
    "test['Age'] = test['Age'].apply(choose_group)\n",
    "\n",
    "\n",
    "test['HomePlanet'] = test['HomePlanet'].fillna(pd.Series(np.random.choice(\n",
    "    ['Earth','Europa','Mars'],\n",
    "    p=[0.54, 0.25, 0.21], size=len(test))))\n",
    "test['HomePlanet'].value_counts(normalize=True)\n",
    "\n",
    "test['CryoSleep'].value_counts(normalize=True)\n",
    "test['CryoSleep'] = test['CryoSleep'].fillna(pd.Series(np.random.choice(\n",
    "    [False, True],\n",
    "    p=[0.64, 0.36], size=len(test))))\n",
    "test['CryoSleep'].value_counts(normalize=True)\n",
    "\n",
    "test['Destination'].value_counts(normalize=True)\n",
    "test['Destination'] = test['Destination'].fillna(pd.Series(np.random.choice(\n",
    "    ['TRAPPIST-1e','55 Cancri e','PSO J318.5-22'],\n",
    "    p=[0.69, 0.21, 0.1], size=len(test))))\n",
    "test['Destination'].value_counts(normalize=True)\n",
    "\n",
    "test['VIP'].value_counts(normalize=True)\n",
    "test['VIP'] = test['VIP'].fillna(pd.Series(np.random.choice(\n",
    "    [False, True],\n",
    "    p=[0.97, 0.03], size=len(test))))\n",
    "test['VIP'].value_counts(normalize=True)\n",
    "\n",
    "\n",
    "test['Age'].value_counts(normalize=True)\n",
    "test['Age'] = test['Age'].fillna(pd.Series(np.random.choice(\n",
    "    ['18-40','under 18','40-60', '60-80',\"80-100\"],\n",
    "    p=[0.62, 0.1777, 0.173, 0.02,0.0093], size=len(test))))\n",
    "test['Age'].value_counts(normalize=True)\n",
    "\n",
    "test['Deck'].value_counts(normalize=True)\n",
    "test['Deck'] = test['Deck'].fillna(pd.Series(np.random.choice(\n",
    "    ['F','G','E','B','C','D','A','T'],\n",
    "    p=[0.33,0.30,0.10,0.09,0.09,0.06,0.03,0.0], size=len(test))))\n",
    "test['Deck'].value_counts(normalize=True)\n",
    "\n",
    "test['Side'].value_counts(normalize=True)\n",
    "test['Side'] = test['Side'].fillna(pd.Series(np.random.choice(\n",
    "    ['S', 'P'],\n",
    "    p=[0.50, 0.50], size=len(test))))\n",
    "test['Side'].value_counts(normalize=True)\n",
    "\n",
    "test['Total_Bill'].fillna(test['Total_Bill'].mean(), inplace=True)\n",
    "\n",
    "test = test.drop(['PassengerId', 'Cabin', 'RoomService', 'FoodCourt', 'ShoppingMall', 'Spa', 'VRDeck', 'Name', 'Num', 'Group'], axis=1)\n",
    "\n",
    "\n",
    "encoder = OrdinalEncoder()\n",
    "test[['Deck', 'Age']] = encoder.fit_transform(test[['Deck', 'Age']])\n",
    "scal = MinMaxScaler()\n",
    "test[['Total_Bill']] = scal.fit_transform(test[['Total_Bill']])\n",
    "\n",
    "arr = ['HomePlanet_Earth','HomePlanet_Europa','HomePlanet_Mars']\n",
    "coder = OneHotEncoder()\n",
    "test[arr] = coder.fit_transform(test[['HomePlanet']]).toarray()\n",
    "\n",
    "arr1 = ['TRAPPIST-1e','55 Cancri e','PSO J318.5-22']\n",
    "test[arr1] = coder.fit_transform(test[['Destination']]).toarray()\n",
    "\n",
    "arr2 = ['S','P']\n",
    "test[arr2] = coder.fit_transform(test[['Side']]).toarray()\n",
    "\n",
    "test.drop(['HomePlanet', 'Destination', 'Side'], axis=1, inplace=True)"
   ],
   "metadata": {
    "collapsed": false,
    "ExecuteTime": {
     "end_time": "2024-03-23T21:36:55.815496300Z",
     "start_time": "2024-03-23T21:36:55.764572100Z"
    }
   },
   "id": "1106f4d3d0f73021",
   "execution_count": 214
  },
  {
   "cell_type": "code",
   "outputs": [
    {
     "data": {
      "text/plain": "  CryoSleep  Age  VIP People  Deck  Total_Bill  HomePlanet_Earth  \\\n0       1.0  0.0  0.0     01   6.0    0.000000               1.0   \n1       0.0  0.0  0.0     01   5.0    0.084120               1.0   \n2       1.0  0.0  0.0     01   2.0    0.000000               0.0   \n3       0.0  0.0  0.0     01   2.0    0.220341               0.0   \n4       0.0  0.0  0.0     01   5.0    0.019159               1.0   \n\n   HomePlanet_Europa  HomePlanet_Mars  TRAPPIST-1e  55 Cancri e  \\\n0                0.0              0.0          0.0          0.0   \n1                0.0              0.0          0.0          0.0   \n2                1.0              0.0          1.0          0.0   \n3                1.0              0.0          0.0          0.0   \n4                0.0              0.0          0.0          0.0   \n\n   PSO J318.5-22    S    P  \n0            1.0  0.0  1.0  \n1            1.0  0.0  1.0  \n2            0.0  0.0  1.0  \n3            1.0  0.0  1.0  \n4            1.0  0.0  1.0  ",
      "text/html": "<div>\n<style scoped>\n    .dataframe tbody tr th:only-of-type {\n        vertical-align: middle;\n    }\n\n    .dataframe tbody tr th {\n        vertical-align: top;\n    }\n\n    .dataframe thead th {\n        text-align: right;\n    }\n</style>\n<table border=\"1\" class=\"dataframe\">\n  <thead>\n    <tr style=\"text-align: right;\">\n      <th></th>\n      <th>CryoSleep</th>\n      <th>Age</th>\n      <th>VIP</th>\n      <th>People</th>\n      <th>Deck</th>\n      <th>Total_Bill</th>\n      <th>HomePlanet_Earth</th>\n      <th>HomePlanet_Europa</th>\n      <th>HomePlanet_Mars</th>\n      <th>TRAPPIST-1e</th>\n      <th>55 Cancri e</th>\n      <th>PSO J318.5-22</th>\n      <th>S</th>\n      <th>P</th>\n    </tr>\n  </thead>\n  <tbody>\n    <tr>\n      <th>0</th>\n      <td>1.0</td>\n      <td>0.0</td>\n      <td>0.0</td>\n      <td>01</td>\n      <td>6.0</td>\n      <td>0.000000</td>\n      <td>1.0</td>\n      <td>0.0</td>\n      <td>0.0</td>\n      <td>0.0</td>\n      <td>0.0</td>\n      <td>1.0</td>\n      <td>0.0</td>\n      <td>1.0</td>\n    </tr>\n    <tr>\n      <th>1</th>\n      <td>0.0</td>\n      <td>0.0</td>\n      <td>0.0</td>\n      <td>01</td>\n      <td>5.0</td>\n      <td>0.084120</td>\n      <td>1.0</td>\n      <td>0.0</td>\n      <td>0.0</td>\n      <td>0.0</td>\n      <td>0.0</td>\n      <td>1.0</td>\n      <td>0.0</td>\n      <td>1.0</td>\n    </tr>\n    <tr>\n      <th>2</th>\n      <td>1.0</td>\n      <td>0.0</td>\n      <td>0.0</td>\n      <td>01</td>\n      <td>2.0</td>\n      <td>0.000000</td>\n      <td>0.0</td>\n      <td>1.0</td>\n      <td>0.0</td>\n      <td>1.0</td>\n      <td>0.0</td>\n      <td>0.0</td>\n      <td>0.0</td>\n      <td>1.0</td>\n    </tr>\n    <tr>\n      <th>3</th>\n      <td>0.0</td>\n      <td>0.0</td>\n      <td>0.0</td>\n      <td>01</td>\n      <td>2.0</td>\n      <td>0.220341</td>\n      <td>0.0</td>\n      <td>1.0</td>\n      <td>0.0</td>\n      <td>0.0</td>\n      <td>0.0</td>\n      <td>1.0</td>\n      <td>0.0</td>\n      <td>1.0</td>\n    </tr>\n    <tr>\n      <th>4</th>\n      <td>0.0</td>\n      <td>0.0</td>\n      <td>0.0</td>\n      <td>01</td>\n      <td>5.0</td>\n      <td>0.019159</td>\n      <td>1.0</td>\n      <td>0.0</td>\n      <td>0.0</td>\n      <td>0.0</td>\n      <td>0.0</td>\n      <td>1.0</td>\n      <td>0.0</td>\n      <td>1.0</td>\n    </tr>\n  </tbody>\n</table>\n</div>"
     },
     "execution_count": 215,
     "metadata": {},
     "output_type": "execute_result"
    }
   ],
   "source": [
    "test.head()"
   ],
   "metadata": {
    "collapsed": false,
    "ExecuteTime": {
     "end_time": "2024-03-23T21:37:00.359502100Z",
     "start_time": "2024-03-23T21:37:00.336071900Z"
    }
   },
   "id": "852442e9d3ed7f25",
   "execution_count": 215
  },
  {
   "cell_type": "code",
   "outputs": [
    {
     "name": "stderr",
     "output_type": "stream",
     "text": [
      "C:\\Users\\strat\\ProgramData\\Lib\\site-packages\\sklearn\\base.py:457: UserWarning: X has feature names, but DecisionTreeClassifier was fitted without feature names\n",
      "  warnings.warn(\n"
     ]
    },
    {
     "data": {
      "text/plain": "array([1., 0., 1., ..., 1., 0., 1.])"
     },
     "execution_count": 216,
     "metadata": {},
     "output_type": "execute_result"
    }
   ],
   "source": [
    "y_result = dt1.predict(test)\n",
    "y_result"
   ],
   "metadata": {
    "collapsed": false,
    "ExecuteTime": {
     "end_time": "2024-03-23T21:37:54.880092500Z",
     "start_time": "2024-03-23T21:37:54.850838400Z"
    }
   },
   "id": "f1578a8ff2cc2363",
   "execution_count": 216
  },
  {
   "cell_type": "code",
   "outputs": [
    {
     "data": {
      "text/plain": "     PassengerId  Transported\n0        0013_01          1.0\n1        0018_01          0.0\n2        0019_01          1.0\n3        0021_01          0.0\n4        0023_01          1.0\n...          ...          ...\n4272     9266_02          1.0\n4273     9269_01          1.0\n4274     9271_01          1.0\n4275     9273_01          0.0\n4276     9277_01          1.0\n\n[4277 rows x 2 columns]",
      "text/html": "<div>\n<style scoped>\n    .dataframe tbody tr th:only-of-type {\n        vertical-align: middle;\n    }\n\n    .dataframe tbody tr th {\n        vertical-align: top;\n    }\n\n    .dataframe thead th {\n        text-align: right;\n    }\n</style>\n<table border=\"1\" class=\"dataframe\">\n  <thead>\n    <tr style=\"text-align: right;\">\n      <th></th>\n      <th>PassengerId</th>\n      <th>Transported</th>\n    </tr>\n  </thead>\n  <tbody>\n    <tr>\n      <th>0</th>\n      <td>0013_01</td>\n      <td>1.0</td>\n    </tr>\n    <tr>\n      <th>1</th>\n      <td>0018_01</td>\n      <td>0.0</td>\n    </tr>\n    <tr>\n      <th>2</th>\n      <td>0019_01</td>\n      <td>1.0</td>\n    </tr>\n    <tr>\n      <th>3</th>\n      <td>0021_01</td>\n      <td>0.0</td>\n    </tr>\n    <tr>\n      <th>4</th>\n      <td>0023_01</td>\n      <td>1.0</td>\n    </tr>\n    <tr>\n      <th>...</th>\n      <td>...</td>\n      <td>...</td>\n    </tr>\n    <tr>\n      <th>4272</th>\n      <td>9266_02</td>\n      <td>1.0</td>\n    </tr>\n    <tr>\n      <th>4273</th>\n      <td>9269_01</td>\n      <td>1.0</td>\n    </tr>\n    <tr>\n      <th>4274</th>\n      <td>9271_01</td>\n      <td>1.0</td>\n    </tr>\n    <tr>\n      <th>4275</th>\n      <td>9273_01</td>\n      <td>0.0</td>\n    </tr>\n    <tr>\n      <th>4276</th>\n      <td>9277_01</td>\n      <td>1.0</td>\n    </tr>\n  </tbody>\n</table>\n<p>4277 rows × 2 columns</p>\n</div>"
     },
     "execution_count": 217,
     "metadata": {},
     "output_type": "execute_result"
    }
   ],
   "source": [
    "output = pd.DataFrame({'PassengerId': t.PassengerId, 'Transported':y_result})\n",
    "output"
   ],
   "metadata": {
    "collapsed": false,
    "ExecuteTime": {
     "end_time": "2024-03-23T21:38:33.600912600Z",
     "start_time": "2024-03-23T21:38:33.574307600Z"
    }
   },
   "id": "da83cadb3db41d4a",
   "execution_count": 217
  },
  {
   "cell_type": "code",
   "outputs": [],
   "source": [
    "output['Transported'] = output['Transported'].astype('boolean')"
   ],
   "metadata": {
    "collapsed": false,
    "ExecuteTime": {
     "end_time": "2024-03-23T21:38:41.988464300Z",
     "start_time": "2024-03-23T21:38:41.957014600Z"
    }
   },
   "id": "11967a19c3193b90",
   "execution_count": 218
  },
  {
   "cell_type": "code",
   "outputs": [],
   "source": [
    "output.to_csv(r'/kaggle/working/submission.csv', index=False)"
   ],
   "metadata": {
    "collapsed": false,
    "ExecuteTime": {
     "end_time": "2024-03-23T21:38:53.119070400Z",
     "start_time": "2024-03-23T21:38:53.071292500Z"
    }
   },
   "id": "8ee74253e1958927",
   "execution_count": 219
  },
  {
   "cell_type": "code",
   "outputs": [],
   "source": [],
   "metadata": {
    "collapsed": false
   },
   "id": "bcdf9baca1163054"
  }
 ],
 "metadata": {
  "kernelspec": {
   "display_name": "Python 3",
   "language": "python",
   "name": "python3"
  },
  "language_info": {
   "codemirror_mode": {
    "name": "ipython",
    "version": 2
   },
   "file_extension": ".py",
   "mimetype": "text/x-python",
   "name": "python",
   "nbconvert_exporter": "python",
   "pygments_lexer": "ipython2",
   "version": "2.7.6"
  }
 },
 "nbformat": 4,
 "nbformat_minor": 5
}
